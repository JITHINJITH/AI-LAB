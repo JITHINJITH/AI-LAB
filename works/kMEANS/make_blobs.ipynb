{
 "cells": [
  {
   "cell_type": "code",
   "execution_count": 1,
   "id": "c4a20437",
   "metadata": {},
   "outputs": [
    {
     "name": "stdout",
     "output_type": "stream",
     "text": [
      "[[-2.58844677  9.04624918  4.57599006  2.01250769]\n",
      " [ 1.91790561  4.15555972 -9.61108706  9.42613264]\n",
      " [-6.81092924 -6.87240969 -8.79595763  7.24837785]]\n",
      "[0 0 1 2 1 1 2 0 1 1 0 1 1 2 0 1 1 2 0 2 1 2 0 2 0 2 1 2 1 1 1 1 1 2 1 2 0\n",
      " 2 2 1 0 2 1 1 1 0 1 0 1 2 0 2 0 2 0 0 1 1 0 0 0 0 2 2 0 2 0 0 0 2 2 2 2 0\n",
      " 1 2 2 1 0 0 2 1 2 0 1 1 2 1 2 0 0 2 0 1 2 1 0 0 0 1 0 1 0 2 2 0 1 1 2 1 2\n",
      " 1 2 1 2 1 2 2 1 2 2 2 0 1 1 1 0 0 2 2 0 1 1 0 2 1 0 0 0 0 2 0 0 2 0 1 2 0\n",
      " 1 1 1 0 0 1 1 0 0 0 2 2 2 2 2 1 1 1 0 0 1 0 2 0 2 1 1 2 2 0 2 2]\n"
     ]
    },
    {
     "data": {
      "text/plain": [
       "<matplotlib.collections.PathCollection at 0xce02c82a60>"
      ]
     },
     "execution_count": 1,
     "metadata": {},
     "output_type": "execute_result"
    },
    {
     "data": {
      "image/png": "[encoded data removed]",
      "text/plain": [
       "<Figure size 432x288 with 1 Axes>"
      ]
     },
     "metadata": {
      "needs_background": "light"
     },
     "output_type": "display_data"
    }
   ],
   "source": [
    "#1.dataset\n",
    "\n",
    "from sklearn.datasets import make_blobs\n",
    "X,y= make_blobs(n_samples=180, centers=3,n_features=4,cluster_std=0.60,random_state=42)\n",
    " \n",
    "#2 Load K means & Fit Data\n",
    " \n",
    "from sklearn.cluster import KMeans\n",
    "ML=KMeans(n_clusters=3,max_iter=4)\n",
    "ML=ML.fit(X)\n",
    " \n",
    "#3. Centers & Labels\n",
    "centers=ML.cluster_centers_\n",
    "labels=ML.labels_\n",
    "print(centers)\n",
    "print(labels)\n",
    " \n",
    "#4. Plotting graph\n",
    " \n",
    "import matplotlib.pyplot as plt\n",
    "plt.scatter(X[:,0],X[:,1],c=labels,cmap=\"rainbow\")"
   ]
  },
  {
   "cell_type": "code",
   "execution_count": null,
   "id": "837d5680",
   "metadata": {},
   "outputs": [],
   "source": []
  }
 ],
 "metadata": {
  "kernelspec": {
   "display_name": "Python 3",
   "language": "python",
   "name": "python3"
  },
  "language_info": {
   "codemirror_mode": {
    "name": "ipython",
    "version": 3
   },
   "file_extension": ".py",
   "mimetype": "text/x-python",
   "name": "python",
   "nbconvert_exporter": "python",
   "pygments_lexer": "ipython3",
   "version": "3.8.8"
  }
 },
 "nbformat": 4,
 "nbformat_minor": 5
}
