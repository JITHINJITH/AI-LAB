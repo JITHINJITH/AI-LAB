{
 "cells": [
  {
   "cell_type": "code",
   "execution_count": 9,
   "id": "d4a8d693",
   "metadata": {},
   "outputs": [],
   "source": [
    "import pandas as pd\n",
    "import numpy as np\n",
    "\n",
    "from sklearn.datasets import load_iris\n",
    "\n",
    "iris = load_iris()\n",
    "\n",
    "x = iris.data\n",
    "\n",
    "y = iris.target"
   ]
  },
  {
   "cell_type": "code",
   "execution_count": 7,
   "id": "0bc6ae1a",
   "metadata": {},
   "outputs": [
    {
     "data": {
      "text/plain": [
       "array([2])"
      ]
     },
     "execution_count": 7,
     "metadata": {},
     "output_type": "execute_result"
    }
   ],
   "source": [
    "from sklearn.tree import DecisionTreeClassifier\n",
    "ml = DecisionTreeClassifier()\n",
    "\n",
    "ml = ml.fit(x,y)\n",
    "\n",
    "op = ml.predict([[3.5,4.5,5.5,6.5]])\n",
    "op"
   ]
  },
  {
   "cell_type": "code",
   "execution_count": 8,
   "id": "c18d4f73",
   "metadata": {},
   "outputs": [
    {
     "data": {
      "text/plain": [
       "'tree_iris.pdf'"
      ]
     },
     "execution_count": 8,
     "metadata": {},
     "output_type": "execute_result"
    }
   ],
   "source": [
    "import graphviz\n",
    "\n",
    "fn = iris.feature_names\n",
    "\n",
    "cn = iris.target_names\n",
    "\n",
    "from sklearn.tree import export_graphviz\n",
    "\n",
    "\n",
    "dot_data = export_graphviz(ml,feature_names = fn ,class_names = cn,filled = True,rounded = True)\n",
    "\n",
    "\n",
    "graph = graphviz.Source(dot_data)\n",
    "graph.render('tree_iris')"
   ]
  },
  {
   "cell_type": "code",
   "execution_count": null,
   "id": "aace1ecd",
   "metadata": {},
   "outputs": [],
   "source": []
  }
 ],
 "metadata": {
  "kernelspec": {
   "display_name": "Python 3",
   "language": "python",
   "name": "python3"
  },
  "language_info": {
   "codemirror_mode": {
    "name": "ipython",
    "version": 3
   },
   "file_extension": ".py",
   "mimetype": "text/x-python",
   "name": "python",
   "nbconvert_exporter": "python",
   "pygments_lexer": "ipython3",
   "version": "3.8.8"
  }
 },
 "nbformat": 4,
 "nbformat_minor": 5
}
