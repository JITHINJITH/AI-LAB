{
 "cells": [
  {
   "cell_type": "code",
   "execution_count": 30,
   "id": "d4a8d693",
   "metadata": {},
   "outputs": [],
   "source": [
    "import pandas as pd\n",
    "import numpy as np\n",
    "\n",
    "from sklearn.datasets import load_wine\n",
    "\n",
    "wine = load_wine()\n",
    "\n",
    "x = wine.data\n",
    "\n",
    "y = wine.target\n",
    "\n",
    "\n",
    "from sklearn.tree import DecisionTreeClassifier\n",
    "ml = DecisionTreeClassifier()\n",
    "\n",
    "ml = ml.fit(x,y)\n",
    "\n",
    "op = ml.predict(np.random.rand(1,13))\n",
    "op\n",
    "\n",
    "\n",
    "\n",
    "import graphviz\n",
    "\n",
    "fn = wine.feature_names\n",
    "\n",
    "cn = wine.target_names\n",
    "\n",
    "from sklearn.tree import export_graphviz\n",
    "\n",
    "\n",
    "dot_data = export_graphviz(ml,feature_names = fn ,class_names = cn,filled = True,rounded = True)\n",
    "\n",
    "\n",
    "graph = graphviz.Source(dot_data)\n",
    "graph.render('tree_wine')\n"
   ]
  },
  {
   "cell_type": "code",
   "execution_count": null,
   "id": "751e759b",
   "metadata": {},
   "outputs": [],
   "source": []
  }
 ],
 "metadata": {
  "kernelspec": {
   "display_name": "Python 3",
   "language": "python",
   "name": "python3"
  },
  "language_info": {
   "codemirror_mode": {
    "name": "ipython",
    "version": 3
   },
   "file_extension": ".py",
   "mimetype": "text/x-python",
   "name": "python",
   "nbconvert_exporter": "python",
   "pygments_lexer": "ipython3",
   "version": "3.8.8"
  }
 },
 "nbformat": 4,
 "nbformat_minor": 5
}
