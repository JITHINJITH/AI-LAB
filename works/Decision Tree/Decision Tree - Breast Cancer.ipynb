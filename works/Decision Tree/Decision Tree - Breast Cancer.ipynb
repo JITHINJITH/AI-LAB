{
 "cells": [
  {
   "cell_type": "code",
   "execution_count": 11,
   "id": "05f2201a",
   "metadata": {},
   "outputs": [
    {
     "data": {
      "text/plain": [
       "'tree_breast_cancer.pdf'"
      ]
     },
     "execution_count": 11,
     "metadata": {},
     "output_type": "execute_result"
    }
   ],
   "source": [
    "import pandas as pd\n",
    "import numpy as np\n",
    "\n",
    "data = pd.read_csv('Breast Cancer prediction.csv ')\n",
    "\n",
    "data\n",
    "\n",
    "x = data.iloc[:,1:-1]\n",
    "y = data.iloc[:,-1]\n",
    "\n",
    "from sklearn.tree import DecisionTreeClassifier\n",
    "ml = DecisionTreeClassifier()\n",
    "ml.fit(x,y)\n",
    "\n",
    "ml.predict(np.random.rand(1,len(x.columns)))\n",
    "\n",
    "import graphviz\n",
    "\n",
    "\n",
    "from sklearn.tree import export_graphviz\n",
    "\n",
    "\n",
    "dot_data = export_graphviz(ml,feature_names = x.columns , class_names = ['2','4'] ,filled = True,rounded = True)\n",
    "\n",
    "\n",
    "graph = graphviz.Source(dot_data)\n",
    "graph.render('tree_breast_cancer')\n",
    "\n"
   ]
  },
  {
   "cell_type": "code",
   "execution_count": null,
   "id": "7f5e7ab2",
   "metadata": {},
   "outputs": [],
   "source": []
  }
 ],
 "metadata": {
  "kernelspec": {
   "display_name": "Python 3",
   "language": "python",
   "name": "python3"
  },
  "language_info": {
   "codemirror_mode": {
    "name": "ipython",
    "version": 3
   },
   "file_extension": ".py",
   "mimetype": "text/x-python",
   "name": "python",
   "nbconvert_exporter": "python",
   "pygments_lexer": "ipython3",
   "version": "3.8.8"
  }
 },
 "nbformat": 4,
 "nbformat_minor": 5
}
