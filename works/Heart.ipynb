{
 "cells": [
  {
   "cell_type": "code",
   "execution_count": 1,
   "metadata": {},
   "outputs": [],
   "source": [
    "import numpy as np\n",
    "import pandas as pd\n",
    "\n",
    "heart=pd.read_csv('heart.csv')\n",
    "heart.head(10)\n",
    "\n",
    "x=heart[['trtbps','chol','thalachh','oldpeak']]\n",
    "x.head(10)\n",
    "\n",
    "y=heart['output']\n",
    "y.head(10)\n",
    "\n",
    "from sklearn.svm import SVC\n",
    "ML=SVC()\n",
    "ML=ML.fit(x,y)\n",
    "\n",
    "op=ML.predict([[ 130, 240, 120, 3.7]])\n",
    "print(op)\n",
    "\n",
    "from sklearn.naive_bayes import GaussianNB\n",
    "ML=GaussianNB()\n",
    "ML=ML.fit(x,y)\n",
    "\n",
    "op=ML.predict([[ 130, 240, 120, 3.7]])\n",
    "print(op)\n",
    "\n"
   ]
  }
 ],
 "metadata": {
  "kernelspec": {
   "display_name": "Python 3",
   "language": "python",
   "name": "python3"
  },
  "language_info": {
   "codemirror_mode": {
    "name": "ipython",
    "version": 3
   },
   "file_extension": ".py",
   "mimetype": "text/x-python",
   "name": "python",
   "nbconvert_exporter": "python",
   "pygments_lexer": "ipython3",
   "version": "3.7.6"
  }
 },
 "nbformat": 4,
 "nbformat_minor": 4
}
