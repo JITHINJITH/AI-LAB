{
  "nbformat": 4,
  "nbformat_minor": 0,
  "metadata": {
    "colab": {
      "name": "Untitled5.ipynb",
      "provenance": [],
      "toc_visible": true
    },
    "kernelspec": {
      "name": "python3",
      "display_name": "Python 3"
    },
    "language_info": {
      "name": "python"
    }
  },
  "cells": [
    {
      "cell_type": "code",
      "metadata": {
        "id": "75HPRwuldXSr"
      },
      "source": [
        "import numpy as np\n",
        "import pandas as pd"
      ],
      "execution_count": 31,
      "outputs": []
    },
    {
      "cell_type": "code",
      "metadata": {
        "id": "j8OuPaiIdeXA"
      },
      "source": [
        "train = pd.read_csv('/train.csv')\n",
        "test = pd.read_csv('/content/test.csv')"
      ],
      "execution_count": 32,
      "outputs": []
    },
    {
      "cell_type": "code",
      "metadata": {
        "id": "y0JBBfF3ejqU"
      },
      "source": [
        "x_train=train[['Age',  'Flight Distance', 'Inflight wifi service', 'Ease of Online booking', 'Food and drink', 'Seat comfort', 'Leg room service', 'Cleanliness','Departure Delay in Minutes', 'Arrival Delay in Minutes']]\n",
        "\n",
        "from sklearn.impute import SimpleImputer\n",
        "imputer = SimpleImputer(missing_values = np.nan, strategy ='mean')\n",
        "imputer.fit(x_train)\n",
        "x_train = imputer.transform(x_train)\n"
      ],
      "execution_count": 33,
      "outputs": []
    },
    {
      "cell_type": "code",
      "metadata": {
        "id": "2AITDilLfza0"
      },
      "source": [
        "y_train=train['satisfaction']"
      ],
      "execution_count": 34,
      "outputs": []
    },
    {
      "cell_type": "code",
      "metadata": {
        "id": "k6Mf57sOiEfK"
      },
      "source": [
        "x_test=test[['Age',  'Flight Distance', 'Inflight wifi service', 'Ease of Online booking', 'Food and drink', 'Seat comfort', 'Leg room service', 'Cleanliness','Departure Delay in Minutes', 'Arrival Delay in Minutes']]\n",
        "\n",
        "from sklearn.impute import SimpleImputer\n",
        "imputer = SimpleImputer(missing_values = np.nan, strategy ='mean')\n",
        "imputer.fit(x_test)\n",
        "x_test = imputer.transform(x_test)"
      ],
      "execution_count": 35,
      "outputs": []
    },
    {
      "cell_type": "code",
      "metadata": {
        "id": "BbuejsthiK4X"
      },
      "source": [
        "y_test = test['satisfaction']"
      ],
      "execution_count": 36,
      "outputs": []
    },
    {
      "cell_type": "code",
      "metadata": {
        "id": "EcwIHJkHgk96"
      },
      "source": [
        "from sklearn.naive_bayes import GaussianNB\n",
        "from sklearn.naive_bayes import MultinomialNB\n",
        "from sklearn.naive_bayes import BernoulliNB"
      ],
      "execution_count": 37,
      "outputs": []
    },
    {
      "cell_type": "code",
      "metadata": {
        "id": "oPJzogD7hPDb"
      },
      "source": [
        "ML1=GaussianNB()\n",
        "ML2 = MultinomialNB()\n",
        "ML3 = BernoulliNB()"
      ],
      "execution_count": 38,
      "outputs": []
    },
    {
      "cell_type": "code",
      "metadata": {
        "id": "HMrJMnAQiSk6"
      },
      "source": [
        "ML1 =ML1.fit(x_train,y_train)\n",
        "ML2 =ML2.fit(x_train,y_train)\n",
        "ML3 =ML3.fit(x_train,y_train)"
      ],
      "execution_count": 39,
      "outputs": []
    },
    {
      "cell_type": "code",
      "metadata": {
        "colab": {
          "base_uri": "https://localhost:8080/"
        },
        "id": "YQp5CproiejR",
        "outputId": "93109c2a-016b-45b8-ef44-99f02034e7be"
      },
      "source": [
        "op1 = ML1.predict(x_test)\n",
        "from sklearn.metrics import accuracy_score\n",
        "accuracy1 = accuracy_score(op1,y_test)\n",
        "accuracy1"
      ],
      "execution_count": 42,
      "outputs": [
        {
          "output_type": "execute_result",
          "data": {
            "text/plain": [
              "0.7768324607329843"
            ]
          },
          "metadata": {
            "tags": []
          },
          "execution_count": 42
        }
      ]
    },
    {
      "cell_type": "code",
      "metadata": {
        "colab": {
          "base_uri": "https://localhost:8080/"
        },
        "id": "TqIadNlRpQO4",
        "outputId": "d62b6f38-89e9-47ac-f6f3-5fca19c7d8d1"
      },
      "source": [
        "op2 = ML2.predict(x_test)\n",
        "from sklearn.metrics import accuracy_score\n",
        "accuracy2 = accuracy_score(op2,y_test)\n",
        "accuracy2"
      ],
      "execution_count": 43,
      "outputs": [
        {
          "output_type": "execute_result",
          "data": {
            "text/plain": [
              "0.5779565753002772"
            ]
          },
          "metadata": {
            "tags": []
          },
          "execution_count": 43
        }
      ]
    },
    {
      "cell_type": "code",
      "metadata": {
        "colab": {
          "base_uri": "https://localhost:8080/"
        },
        "id": "unPKsV_DqVdP",
        "outputId": "267e91fc-406a-49fb-883b-dd3495aa266b"
      },
      "source": [
        "op3 = ML3.predict(x_test)\n",
        "from sklearn.metrics import accuracy_score\n",
        "accuracy3 = accuracy_score(op3,y_test)\n",
        "accuracy3"
      ],
      "execution_count": 44,
      "outputs": [
        {
          "output_type": "execute_result",
          "data": {
            "text/plain": [
              "0.5791884816753927"
            ]
          },
          "metadata": {
            "tags": []
          },
          "execution_count": 44
        }
      ]
    },
    {
      "cell_type": "code",
      "metadata": {
        "id": "3_W18dasqbxn"
      },
      "source": [
        ""
      ],
      "execution_count": null,
      "outputs": []
    }
  ]
}