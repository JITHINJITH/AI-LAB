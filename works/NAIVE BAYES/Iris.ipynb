{
  "nbformat": 4,
  "nbformat_minor": 0,
  "metadata": {
    "colab": {
      "name": "Untitled4.ipynb",
      "provenance": [],
      "collapsed_sections": []
    },
    "kernelspec": {
      "name": "python3",
      "display_name": "Python 3"
    },
    "language_info": {
      "name": "python"
    }
  },
  "cells": [
    {
      "cell_type": "code",
      "metadata": {
        "id": "2hnCRvAxJWNf"
      },
      "source": [
        "import numpy as np\n",
        "import pandas as pd\n"
      ],
      "execution_count": 1,
      "outputs": []
    },
    {
      "cell_type": "code",
      "metadata": {
        "id": "I-PKyVBKJkBu"
      },
      "source": [
        "from sklearn.datasets import load_iris\n",
        "iris = load_iris()\n",
        "x=iris.data\n",
        "y=iris.target"
      ],
      "execution_count": 25,
      "outputs": []
    },
    {
      "cell_type": "code",
      "metadata": {
        "id": "bQHH9QFiJs00"
      },
      "source": [
        "from sklearn.naive_bayes import GaussianNB\n",
        "from sklearn.naive_bayes import MultinomialNB\n",
        "from sklearn.naive_bayes import BernoulliNB\n",
        "\n",
        "ML1=GaussianNB()\n",
        "ML2 = MultinomialNB()\n",
        "ML3 = BernoulliNB()\n"
      ],
      "execution_count": 26,
      "outputs": []
    },
    {
      "cell_type": "code",
      "metadata": {
        "id": "9U737IvxUgvu"
      },
      "source": [
        "ML1 =ML1.fit(x,y)\n",
        "ML2 =ML2.fit(x,y)\n",
        "ML3 =ML3.fit(x,y)"
      ],
      "execution_count": 29,
      "outputs": []
    },
    {
      "cell_type": "code",
      "metadata": {
        "colab": {
          "base_uri": "https://localhost:8080/"
        },
        "id": "r7j-KrD7UnCU",
        "outputId": "d247fcec-703c-4661-dce0-ad369bfc3f9c"
      },
      "source": [
        "op1 = ML1.predict([[3.5,3.5,3.5,3.5 ]])\n",
        "op1"
      ],
      "execution_count": 32,
      "outputs": [
        {
          "output_type": "execute_result",
          "data": {
            "text/plain": [
              "array([2])"
            ]
          },
          "metadata": {
            "tags": []
          },
          "execution_count": 32
        }
      ]
    },
    {
      "cell_type": "code",
      "metadata": {
        "colab": {
          "base_uri": "https://localhost:8080/"
        },
        "id": "XOf9Btq8VR__",
        "outputId": "f9c3f8d5-c066-4765-8702-efb6b03f49a0"
      },
      "source": [
        "op2 = ML2.predict([[3.5,3.5,3.5,3.5 ]])\n",
        "op2"
      ],
      "execution_count": 33,
      "outputs": [
        {
          "output_type": "execute_result",
          "data": {
            "text/plain": [
              "array([2])"
            ]
          },
          "metadata": {
            "tags": []
          },
          "execution_count": 33
        }
      ]
    },
    {
      "cell_type": "code",
      "metadata": {
        "colab": {
          "base_uri": "https://localhost:8080/"
        },
        "id": "CDNE4w07Vdy0",
        "outputId": "9fc0234c-ec04-499f-cd19-edca6c71694d"
      },
      "source": [
        "op3 = ML3.predict([[3.5,3.5,3.5,3.5 ]])\n",
        "op3"
      ],
      "execution_count": 34,
      "outputs": [
        {
          "output_type": "execute_result",
          "data": {
            "text/plain": [
              "array([0])"
            ]
          },
          "metadata": {
            "tags": []
          },
          "execution_count": 34
        }
      ]
    },
    {
      "cell_type": "code",
      "metadata": {
        "id": "wWW_oN-jVgP6"
      },
      "source": [
        ""
      ],
      "execution_count": null,
      "outputs": []
    }
  ]
}