{
 "cells": [
  {
   "cell_type": "code",
   "execution_count": 1,
   "metadata": {},
   "outputs": [],
   "source": [
    "# Importing Libraries\n",
    "\n",
    "import numpy as np\n",
    "import pandas as pd\n",
    "\n",
    "#Loading dataset\n",
    "\n",
    "iris=pd.read_csv('iris.csv')\n",
    "iris.head(10)\n",
    "\n",
    "x=iris[['sepal_length','sepal_width','petal_length','petal_width']]\n",
    "y=iris['species']\n",
    "\n",
    "x\n",
    "\n",
    "y\n",
    "\n",
    "#building MOdel\n",
    "\n",
    "from sklearn.svm import SVC\n",
    "ML=SVC()\n",
    "\n",
    "#fitting Data\n",
    "\n",
    "ML=ML.fit(x,y)\n",
    "\n",
    "#trial output\n",
    "op=ML.predict([[3.7, 4.9, 5.2, 3.3]])\n",
    "op\n",
    "\n",
    "op1=ML.predict([[2.5, 3.8, 4.6, 5.2]])\n",
    "op1\n",
    "\n",
    "op2=ML.predict([[2.7, 3.8, 4.8, 5.2]])\n",
    "op2\n",
    "\n",
    "op3=ML.predict([[2.9, 3.8, 5.0, 5.2]])\n",
    "op3"
   ]
  },
  {
   "cell_type": "code",
   "execution_count": null,
   "metadata": {},
   "outputs": [],
   "source": []
  }
 ],
 "metadata": {
  "kernelspec": {
   "display_name": "Python 3",
   "language": "python",
   "name": "python3"
  },
  "language_info": {
   "codemirror_mode": {
    "name": "ipython",
    "version": 3
   },
   "file_extension": ".py",
   "mimetype": "text/x-python",
   "name": "python",
   "nbconvert_exporter": "python",
   "pygments_lexer": "ipython3",
   "version": "3.7.6"
  }
 },
 "nbformat": 4,
 "nbformat_minor": 4
}
