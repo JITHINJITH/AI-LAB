{
  "nbformat": 4,
  "nbformat_minor": 0,
  "metadata": {
    "colab": {
      "name": "Autoencoder for dimensionality reduction.ipynb",
      "provenance": [],
      "collapsed_sections": [],
      "authorship_tag": "ABX9TyO2OBz+lHdrgc3EXXGr2dj+",
      "include_colab_link": true
    },
    "kernelspec": {
      "name": "python3",
      "display_name": "Python 3"
    },
    "language_info": {
      "name": "python"
    }
  },
  "cells": [
    {
      "cell_type": "markdown",
      "metadata": {
        "id": "view-in-github",
        "colab_type": "text"
      },
      "source": [
        "<a href=\"https://colab.research.google.com/github/JITHINJITH/AI-LAB/blob/master/Autoencoder_for_dimensionality_reduction.ipynb\" target=\"_parent\"><img src=\"https://colab.research.google.com/assets/colab-badge.svg\" alt=\"Open In Colab\"/></a>"
      ]
    },
    {
      "cell_type": "code",
      "metadata": {
        "colab": {
          "base_uri": "https://localhost:8080/"
        },
        "id": "-iuWQMdjg-Z6",
        "outputId": "c3f9cf01-857e-4479-9d1c-d5f9e030574b"
      },
      "source": [
        "#Load the dataset\n",
        "from sklearn.datasets import load_iris\n",
        "iris = load_iris()\n",
        "X = iris.data\n",
        "y = iris.target\n",
        "import matplotlib.pyplot as plt\n",
        "print(iris.feature_names)\n",
        "\n",
        "#split the dataset\n",
        "from sklearn.model_selection import train_test_split\n",
        "X_train, X_test, y_train, y_test = train_test_split(X, y, test_size=0.5,stratify = y, random_state=42)\n",
        "\n",
        "from tensorflow import keras\n"
      ],
      "execution_count": 1,
      "outputs": [
        {
          "output_type": "stream",
          "name": "stdout",
          "text": [
            "['sepal length (cm)', 'sepal width (cm)', 'petal length (cm)', 'petal width (cm)']\n"
          ]
        }
      ]
    },
    {
      "cell_type": "code",
      "metadata": {
        "id": "hIw3bqrQiqKF"
      },
      "source": [
        "encoder = keras.models.Sequential(keras.layers.Dense(2,input_shape = [4],activation='linear'))\n",
        "decoder = keras.models.Sequential(keras.layers.Dense(4,input_shape = [2],activation='linear'))"
      ],
      "execution_count": 2,
      "outputs": []
    },
    {
      "cell_type": "code",
      "metadata": {
        "id": "gV2o5WYYjyid"
      },
      "source": [
        "auto = keras.models.Sequential([encoder,decoder])"
      ],
      "execution_count": 3,
      "outputs": []
    },
    {
      "cell_type": "code",
      "metadata": {
        "colab": {
          "base_uri": "https://localhost:8080/"
        },
        "id": "Vqc5RSbVj4m9",
        "outputId": "46fa8ab7-2d3f-4f2a-fb50-830eff4c0962"
      },
      "source": [
        "auto.summary()"
      ],
      "execution_count": 4,
      "outputs": [
        {
          "output_type": "stream",
          "name": "stdout",
          "text": [
            "Model: \"sequential_2\"\n",
            "_________________________________________________________________\n",
            "Layer (type)                 Output Shape              Param #   \n",
            "=================================================================\n",
            "sequential (Sequential)      (None, 2)                 10        \n",
            "_________________________________________________________________\n",
            "sequential_1 (Sequential)    (None, 4)                 12        \n",
            "=================================================================\n",
            "Total params: 22\n",
            "Trainable params: 22\n",
            "Non-trainable params: 0\n",
            "_________________________________________________________________\n"
          ]
        }
      ]
    },
    {
      "cell_type": "code",
      "metadata": {
        "id": "UVL9-iAlkRh2"
      },
      "source": [
        "auto.compile(optimizer='adam',loss='mse')\n",
        "history_ae = auto.fit(X_train,y_train,epochs=400)"
      ],
      "execution_count": null,
      "outputs": []
    },
    {
      "cell_type": "code",
      "metadata": {
        "colab": {
          "base_uri": "https://localhost:8080/"
        },
        "id": "HCla5HGNkbgn",
        "outputId": "c74af6b8-2eed-4970-c436-53596a5f030b"
      },
      "source": [
        "output_ae = auto.predict(X_test)\n",
        "output_ae.shape"
      ],
      "execution_count": 6,
      "outputs": [
        {
          "output_type": "execute_result",
          "data": {
            "text/plain": [
              "(75, 4)"
            ]
          },
          "metadata": {},
          "execution_count": 6
        }
      ]
    },
    {
      "cell_type": "code",
      "metadata": {
        "colab": {
          "base_uri": "https://localhost:8080/",
          "height": 282
        },
        "id": "uw7lp5iXk4oL",
        "outputId": "c7ad9bef-8ef3-4bdc-ac5b-45d3f4960a9b"
      },
      "source": [
        "plt.scatter(output_ae[:,0],output_ae[:,1])"
      ],
      "execution_count": 7,
      "outputs": [
        {
          "output_type": "execute_result",
          "data": {
            "text/plain": [
              "<matplotlib.collections.PathCollection at 0x7f02d6185550>"
            ]
          },
          "metadata": {},
          "execution_count": 7
        },
        {
          "output_type": "display_data",
          "data": {
            "image/png": "[encoded data removed]",
            "text/plain": [
              "<Figure size 432x288 with 1 Axes>"
            ]
          },
          "metadata": {
            "needs_background": "light"
          }
        }
      ]
    },
    {
      "cell_type": "code",
      "metadata": {
        "id": "M21yTveAlG_u"
      },
      "source": [
        ""
      ],
      "execution_count": 7,
      "outputs": []
    }
  ]
}