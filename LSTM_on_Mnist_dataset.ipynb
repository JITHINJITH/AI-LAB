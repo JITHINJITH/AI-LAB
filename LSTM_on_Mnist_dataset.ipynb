{
  "nbformat": 4,
  "nbformat_minor": 0,
  "metadata": {
    "colab": {
      "name": "LSTM on Mnist dataset.ipynb",
      "provenance": [],
      "collapsed_sections": [],
      "authorship_tag": "ABX9TyNMVy8oXL5JZWCREWB2szm+",
      "include_colab_link": true
    },
    "kernelspec": {
      "name": "python3",
      "display_name": "Python 3"
    },
    "language_info": {
      "name": "python"
    }
  },
  "cells": [
    {
      "cell_type": "markdown",
      "metadata": {
        "id": "view-in-github",
        "colab_type": "text"
      },
      "source": [
        "<a href=\"https://colab.research.google.com/github/JITHINJITH/AI-LAB/blob/master/LSTM_on_Mnist_dataset.ipynb\" target=\"_parent\"><img src=\"https://colab.research.google.com/assets/colab-badge.svg\" alt=\"Open In Colab\"/></a>"
      ]
    },
    {
      "cell_type": "code",
      "metadata": {
        "colab": {
          "base_uri": "https://localhost:8080/"
        },
        "id": "9GbTqZLC1anp",
        "outputId": "43f82c5b-eb44-4df3-c07d-063c70a88832"
      },
      "source": [
        "import tensorflow as tf\n",
        "from tensorflow.keras.models import Sequential\n",
        "from tensorflow.keras.layers import Dense, Dropout, LSTM\n",
        "mnist = tf.keras.datasets.mnist # mnist is a dataset of 28x28 images of handwritten digits and their labels\n",
        "(x_train, y_train),(x_test, y_test) = mnist.load_data() \n",
        "x_train = x_train/255.0\n",
        "x_test = x_test/255.0\n",
        "print(x_train.shape) \n",
        "print(x_train[0].shape)"
      ],
      "execution_count": 3,
      "outputs": [
        {
          "output_type": "stream",
          "name": "stdout",
          "text": [
            "Downloading data from https://storage.googleapis.com/tensorflow/tf-keras-datasets/mnist.npz\n",
            "11493376/11490434 [==============================] - 0s 0us/step\n",
            "11501568/11490434 [==============================] - 0s 0us/step\n",
            "(60000, 28, 28)\n",
            "(28, 28)\n"
          ]
        }
      ]
    },
    {
      "cell_type": "code",
      "metadata": {
        "id": "cgusUtWT1uWP"
      },
      "source": [
        "model = Sequential()\n",
        "model.add(LSTM(128, input_shape=(x_train.shape[1:]), activation='relu', return_sequences=True))\n",
        "model.add(Dropout(0.2))\n",
        "model.add(LSTM(128, activation='relu')) \n",
        "model.add(Dropout(0.1))\n",
        "model.add(Dense(32, activation='relu'))\n",
        "model.add(Dropout(0.2)) \n",
        "model.add(Dense(10, activation='softmax'))"
      ],
      "execution_count": 4,
      "outputs": []
    },
    {
      "cell_type": "code",
      "metadata": {
        "colab": {
          "base_uri": "https://localhost:8080/"
        },
        "id": "YEHRL1Vb_EB9",
        "outputId": "d4675af1-6259-4d69-8c65-9124a0cac4a0"
      },
      "source": [
        "model.compile(loss='sparse_categorical_crossentropy',optimizer='adam', metrics=['accuracy'],)\n",
        "#Fit the data into the model\n",
        "model.fit(x_train,y_train, epochs=3,validation_data=(x_test, y_test)) "
      ],
      "execution_count": 5,
      "outputs": [
        {
          "output_type": "stream",
          "name": "stdout",
          "text": [
            "Epoch 1/3\n",
            "1875/1875 [==============================] - 133s 70ms/step - loss: 0.6511 - accuracy: 0.7858 - val_loss: 0.1479 - val_accuracy: 0.9552\n",
            "Epoch 2/3\n",
            "1875/1875 [==============================] - 129s 69ms/step - loss: 0.1723 - accuracy: 0.9532 - val_loss: 0.0935 - val_accuracy: 0.9712\n",
            "Epoch 3/3\n",
            "1875/1875 [==============================] - 118s 63ms/step - loss: 0.1138 - accuracy: 0.9690 - val_loss: 0.0644 - val_accuracy: 0.9818\n"
          ]
        },
        {
          "output_type": "execute_result",
          "data": {
            "text/plain": [
              "<keras.callbacks.History at 0x7f494f33e510>"
            ]
          },
          "metadata": {},
          "execution_count": 5
        }
      ]
    },
    {
      "cell_type": "code",
      "metadata": {
        "colab": {
          "base_uri": "https://localhost:8080/"
        },
        "id": "wj1Ft6gC_OBv",
        "outputId": "1b0ec53d-045a-40ad-e64e-d931065cb42b"
      },
      "source": [
        "loss,acc = model.evaluate(x_test,y_test)"
      ],
      "execution_count": 7,
      "outputs": [
        {
          "output_type": "stream",
          "name": "stdout",
          "text": [
            "313/313 [==============================] - 7s 21ms/step - loss: 0.0644 - accuracy: 0.9818\n"
          ]
        }
      ]
    },
    {
      "cell_type": "code",
      "metadata": {
        "id": "nsGsFUoiBTTH"
      },
      "source": [
        ""
      ],
      "execution_count": null,
      "outputs": []
    }
  ]
}