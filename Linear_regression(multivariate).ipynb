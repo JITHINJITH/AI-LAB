{
  "nbformat": 4,
  "nbformat_minor": 0,
  "metadata": {
    "colab": {
      "name": "Linear regression(multivariate).ipynb",
      "provenance": [],
      "collapsed_sections": [],
      "authorship_tag": "ABX9TyM6JmhU6yyXaZpw+qV9DmcF",
      "include_colab_link": true
    },
    "kernelspec": {
      "name": "python3",
      "display_name": "Python 3"
    },
    "language_info": {
      "name": "python"
    }
  },
  "cells": [
    {
      "cell_type": "markdown",
      "metadata": {
        "id": "view-in-github",
        "colab_type": "text"
      },
      "source": [
        "<a href=\"https://colab.research.google.com/github/JITHINJITH/AI-LAB/blob/master/Linear_regression(multivariate).ipynb\" target=\"_parent\"><img src=\"https://colab.research.google.com/assets/colab-badge.svg\" alt=\"Open In Colab\"/></a>"
      ]
    },
    {
      "cell_type": "code",
      "metadata": {
        "id": "zSYmnHhxrnpB",
        "colab": {
          "base_uri": "https://localhost:8080/"
        },
        "outputId": "2c852047-d887-4f7c-ef6c-b8a1977bbc98"
      },
      "source": [
        "import numpy as np\n",
        "import pandas as pd\n",
        "import matplotlib.pyplot as plt\n",
        "\n",
        "#Create dataset\n",
        "from sklearn.datasets import make_regression\n",
        "data = make_regression(n_samples=100,n_features = 5,\n",
        "                       random_state = 42,bias=15,noise=5,n_targets=1)\n",
        "x = pd.DataFrame(data[0]).values\n",
        "y = pd.Series(data[1]).values\n",
        "#build model\n",
        "from sklearn.linear_model import LinearRegression\n",
        "ml = LinearRegression()\n",
        "#fit Model\n",
        "ml.fit(x,y)\n",
        "#predict\n",
        "ml.predict([[2.5,3,4,5,10]])"
      ],
      "execution_count": 1,
      "outputs": [
        {
          "output_type": "execute_result",
          "data": {
            "text/plain": [
              "array([1352.31757211])"
            ]
          },
          "metadata": {},
          "execution_count": 1
        }
      ]
    },
    {
      "cell_type": "code",
      "metadata": {
        "id": "R1nKR4-h0Uhv"
      },
      "source": [
        ""
      ],
      "execution_count": null,
      "outputs": []
    }
  ]
}