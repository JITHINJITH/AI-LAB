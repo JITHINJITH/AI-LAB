{
  "nbformat": 4,
  "nbformat_minor": 0,
  "metadata": {
    "colab": {
      "name": "Polynomial_regression.ipynb",
      "provenance": [],
      "collapsed_sections": [],
      "authorship_tag": "ABX9TyMoYF6S3+M5fIc1fMeI6j5s",
      "include_colab_link": true
    },
    "kernelspec": {
      "name": "python3",
      "display_name": "Python 3"
    },
    "language_info": {
      "name": "python"
    }
  },
  "cells": [
    {
      "cell_type": "markdown",
      "metadata": {
        "id": "view-in-github",
        "colab_type": "text"
      },
      "source": [
        "<a href=\"https://colab.research.google.com/github/JITHINJITH/AI-LAB/blob/master/Polynomial_regression.ipynb\" target=\"_parent\"><img src=\"https://colab.research.google.com/assets/colab-badge.svg\" alt=\"Open In Colab\"/></a>"
      ]
    },
    {
      "cell_type": "code",
      "metadata": {
        "id": "WzWtIz5f-VmQ",
        "colab": {
          "base_uri": "https://localhost:8080/"
        },
        "outputId": "a7175fe7-49bd-45a3-a116-ec1cec959972"
      },
      "source": [
        "import numpy as np\n",
        "import pandas as pd\n",
        "import matplotlib.pyplot as plt\n",
        "\n",
        "#Create dataset\n",
        "from sklearn.datasets import make_regression\n",
        "data = make_regression(n_samples=20,n_features = 1,bias=15,\n",
        "                       noise=25,n_targets=1,random_state=42)\n",
        "x=pd.DataFrame(data[0]).values\n",
        "y = pd.Series(data[1]).values\n",
        "\n",
        "#Preprocess to add polynomial features\n",
        "from sklearn.preprocessing import PolynomialFeatures\n",
        "poly = PolynomialFeatures(degree=4)\n",
        "x_new = poly.fit_transform(x)\n",
        "\n",
        "#Build model\n",
        "from sklearn.linear_model import LinearRegression\n",
        "lin = LinearRegression()\n",
        "lin.fit(x_new,y)\n",
        "\n",
        "#Predict\n",
        "lin.predict(x_new)\n",
        "y_value = poly.fit_transform([[0.5]])\n",
        "lin.predict(y_value)"
      ],
      "execution_count": 5,
      "outputs": [
        {
          "output_type": "execute_result",
          "data": {
            "text/plain": [
              "array([50.87581372])"
            ]
          },
          "metadata": {},
          "execution_count": 5
        }
      ]
    },
    {
      "cell_type": "code",
      "metadata": {
        "colab": {
          "base_uri": "https://localhost:8080/",
          "height": 312
        },
        "id": "_FgZ2yH32rdn",
        "outputId": "fbbd2993-30bc-4b99-f6f5-07c26c463d1c"
      },
      "source": [
        "plt.scatter(x,y,color = 'red')\n",
        "plt.scatter(x,lin.predict(x_new),color = 'green')\n",
        "plt.title('Polynomial Regression')\n",
        "plt.xlabel('Feature')\n",
        "plt.ylabel('Target')"
      ],
      "execution_count": 19,
      "outputs": [
        {
          "output_type": "execute_result",
          "data": {
            "text/plain": [
              "Text(0, 0.5, 'Target')"
            ]
          },
          "metadata": {},
          "execution_count": 19
        },
        {
          "output_type": "display_data",
          "data": {
            "image/png": "[encoded data removed]",
            "text/plain": [
              "<Figure size 432x288 with 1 Axes>"
            ]
          },
          "metadata": {
            "needs_background": "light"
          }
        }
      ]
    },
    {
      "cell_type": "code",
      "metadata": {
        "colab": {
          "base_uri": "https://localhost:8080/"
        },
        "id": "rufCugFx-04Y",
        "outputId": "3e74d1c9-9bc4-4985-b98a-5ed291c8a131"
      },
      "source": [
        "from sklearn.linear_model import LinearRegression\n",
        "lin2 = LinearRegression()\n",
        "lin2.fit(x,y)\n",
        "y_pred = lin2.predict(x)"
      ],
      "execution_count": 13,
      "outputs": [
        {
          "output_type": "execute_result",
          "data": {
            "text/plain": [
              "LinearRegression(copy_X=True, fit_intercept=True, n_jobs=None, normalize=False)"
            ]
          },
          "metadata": {},
          "execution_count": 13
        }
      ]
    },
    {
      "cell_type": "code",
      "metadata": {
        "colab": {
          "base_uri": "https://localhost:8080/",
          "height": 312
        },
        "id": "DrcKdtEi_QEz",
        "outputId": "1da18ef4-dceb-4553-cdec-41c5f34eac62"
      },
      "source": [
        "plt.scatter(x,y,color='red')\n",
        "plt.plot(x,lin2.predict(x),color='blue')\n",
        "plt.title('Linear Regression')\n",
        "plt.xlabel('Feature')\n",
        "plt.ylabel('Target')"
      ],
      "execution_count": 20,
      "outputs": [
        {
          "output_type": "execute_result",
          "data": {
            "text/plain": [
              "Text(0, 0.5, 'Target')"
            ]
          },
          "metadata": {},
          "execution_count": 20
        },
        {
          "output_type": "display_data",
          "data": {
            "image/png": "[encoded data removed]",
            "text/plain": [
              "<Figure size 432x288 with 1 Axes>"
            ]
          },
          "metadata": {
            "needs_background": "light"
          }
        }
      ]
    },
    {
      "cell_type": "code",
      "metadata": {
        "id": "KRxpNEmPCFKh"
      },
      "source": [
        ""
      ],
      "execution_count": null,
      "outputs": []
    }
  ]
}