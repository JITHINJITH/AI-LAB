{
  "nbformat": 4,
  "nbformat_minor": 0,
  "metadata": {
    "colab": {
      "name": "Linear_regression(univariate).ipynb",
      "provenance": [],
      "collapsed_sections": [],
      "authorship_tag": "ABX9TyOwuwY5iCM8dY6sofBp/FQl"
    },
    "kernelspec": {
      "name": "python3",
      "display_name": "Python 3"
    },
    "language_info": {
      "name": "python"
    }
  },
  "cells": [
    {
      "cell_type": "code",
      "metadata": {
        "id": "_su3uMdDWpuL",
        "colab": {
          "base_uri": "https://localhost:8080/"
        },
        "outputId": "42b54318-98ce-4176-963e-87e2a49f6d05"
      },
      "source": [
        "import numpy as np\n",
        "import pandas as pd\n",
        "import matplotlib.pyplot as plt\n",
        "\n",
        "#Create data \n",
        "from sklearn.datasets import make_regression\n",
        "data = make_regression(n_samples=10,n_features=1,\n",
        "                       n_targets=1,bias=15,noise=5,random_state=42)\n",
        "x = pd.DataFrame(data[0],columns = ['Feature1']).values\n",
        "y = pd.Series(data[1], name = ('Target')).values\n",
        "\n",
        "#Build model\n",
        "from sklearn.linear_model import LinearRegression\n",
        "lin = LinearRegression()\n",
        "\n",
        "#fit Model\n",
        "lin.fit(x,y)\n",
        "\n",
        "#Predict\n",
        "y_pred = lin.predict(x)\n",
        "lin.predict([[25]])"
      ],
      "execution_count": 1,
      "outputs": [
        {
          "output_type": "execute_result",
          "data": {
            "text/plain": [
              "array([497.41900852])"
            ]
          },
          "metadata": {},
          "execution_count": 1
        }
      ]
    },
    {
      "cell_type": "code",
      "metadata": {
        "colab": {
          "base_uri": "https://localhost:8080/",
          "height": 312
        },
        "id": "WJ81-Mw3W2-8",
        "outputId": "6017231a-a7bd-41d5-e1e2-5585600f67e2"
      },
      "source": [
        "plt.scatter(x,y)\n",
        "plt.plot(x,y_pred,color = 'red')\n",
        "plt.title('Feature1 vs Target')\n",
        "plt.xlabel('Feature1')\n",
        "plt.ylabel('Target')\n",
        "plt.scatter(1,lin.predict([[1]]),color = 'black')"
      ],
      "execution_count": 4,
      "outputs": [
        {
          "output_type": "execute_result",
          "data": {
            "text/plain": [
              "<matplotlib.collections.PathCollection at 0x7f5d5b762250>"
            ]
          },
          "metadata": {},
          "execution_count": 4
        },
        {
          "output_type": "display_data",
          "data": {
            "image/png": "[encoded data removed]",
            "text/plain": [
              "<Figure size 432x288 with 1 Axes>"
            ]
          },
          "metadata": {
            "needs_background": "light"
          }
        }
      ]
    },
    {
      "cell_type": "code",
      "metadata": {
        "id": "2FViwD-tXXAY"
      },
      "source": [
        ""
      ],
      "execution_count": 2,
      "outputs": []
    }
  ]
}