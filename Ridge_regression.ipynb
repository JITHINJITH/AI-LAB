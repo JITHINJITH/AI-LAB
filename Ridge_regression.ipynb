{
  "nbformat": 4,
  "nbformat_minor": 0,
  "metadata": {
    "colab": {
      "name": "Ridge_regression.ipynb",
      "provenance": [],
      "collapsed_sections": [],
      "authorship_tag": "ABX9TyOceUVZGR5SG9t2AOO7+OCU",
      "include_colab_link": true
    },
    "kernelspec": {
      "name": "python3",
      "display_name": "Python 3"
    },
    "language_info": {
      "name": "python"
    }
  },
  "cells": [
    {
      "cell_type": "markdown",
      "metadata": {
        "id": "view-in-github",
        "colab_type": "text"
      },
      "source": [
        "<a href=\"https://colab.research.google.com/github/JITHINJITH/AI-LAB/blob/master/Ridge_regression.ipynb\" target=\"_parent\"><img src=\"https://colab.research.google.com/assets/colab-badge.svg\" alt=\"Open In Colab\"/></a>"
      ]
    },
    {
      "cell_type": "code",
      "metadata": {
        "id": "ZbPfEF7kKviG",
        "colab": {
          "base_uri": "https://localhost:8080/"
        },
        "outputId": "5168b9a9-728e-4ecd-e331-c11f23698c11"
      },
      "source": [
        "import numpy as np\n",
        "import pandas as pd\n",
        "import matplotlib.pyplot as plt\n",
        "\n",
        "#Create data \n",
        "from sklearn.datasets import make_regression\n",
        "data = make_regression(n_samples=10,n_features=1,\n",
        "                       n_targets=1,bias=10,noise=2,random_state=42)\n",
        "x = pd.DataFrame(data[0]).values\n",
        "y = pd.Series(data[1]).values\n",
        "#Build model\n",
        "from sklearn.linear_model import Ridge\n",
        "ridge = Ridge(alpha=5)\n",
        "\n",
        "#Fit model\n",
        "ridge.fit(x,y)\n",
        "#Predict\n",
        "y_pred = ridge.predict(x)\n",
        "ridge.predict([[7]])"
      ],
      "execution_count": 1,
      "outputs": [
        {
          "output_type": "execute_result",
          "data": {
            "text/plain": [
              "array([75.9691624])"
            ]
          },
          "metadata": {},
          "execution_count": 1
        }
      ]
    },
    {
      "cell_type": "code",
      "metadata": {
        "id": "oCe1E2SDLt8N",
        "colab": {
          "base_uri": "https://localhost:8080/"
        },
        "outputId": "ab1b7362-9a47-47fb-8a48-00f98a363423"
      },
      "source": [
        "from sklearn.linear_model import LinearRegression\n",
        "lin = LinearRegression()\n",
        "lin.fit(x,y)\n",
        "y_lin_pred = lin.predict(x)\n",
        "lin.predict([[7]])"
      ],
      "execution_count": 2,
      "outputs": [
        {
          "output_type": "execute_result",
          "data": {
            "text/plain": [
              "array([139.09579801])"
            ]
          },
          "metadata": {},
          "execution_count": 2
        }
      ]
    },
    {
      "cell_type": "code",
      "metadata": {
        "id": "RAdgteVlLjwK",
        "colab": {
          "base_uri": "https://localhost:8080/",
          "height": 312
        },
        "outputId": "18875511-46a0-4239-bee0-db3bd12782e7"
      },
      "source": [
        "plt.scatter(x,y,color='orange')\n",
        "plt.plot(x,y_lin_pred,color='green')\n",
        "plt.plot(x,y_pred,color = 'blue')\n",
        "plt.xlabel('Feature')\n",
        "plt.ylabel('Target')\n",
        "plt.title('comparison between Ridge and Linear Regression')\n"
      ],
      "execution_count": 4,
      "outputs": [
        {
          "output_type": "execute_result",
          "data": {
            "text/plain": [
              "Text(0.5, 1.0, 'comparison between Ridge and Linear Regression')"
            ]
          },
          "metadata": {},
          "execution_count": 4
        },
        {
          "output_type": "display_data",
          "data": {
            "image/png": "[encoded data removed]",
            "text/plain": [
              "<Figure size 432x288 with 1 Axes>"
            ]
          },
          "metadata": {
            "needs_background": "light"
          }
        }
      ]
    },
    {
      "cell_type": "code",
      "metadata": {
        "id": "Gr2phLkeMyhJ",
        "colab": {
          "base_uri": "https://localhost:8080/"
        },
        "outputId": "cbb1df54-dbb1-4778-a7f0-b16cc15a74ad"
      },
      "source": [
        "from sklearn.linear_model import Lasso\n",
        "lasso = Lasso(alpha=5)\n",
        "lasso.fit(x,y)\n",
        "y_las_pred = lasso.predict(x)\n",
        "lasso.predict([[7]])"
      ],
      "execution_count": 8,
      "outputs": [
        {
          "output_type": "execute_result",
          "data": {
            "text/plain": [
              "array([69.4635002])"
            ]
          },
          "metadata": {},
          "execution_count": 8
        }
      ]
    },
    {
      "cell_type": "code",
      "metadata": {
        "colab": {
          "base_uri": "https://localhost:8080/",
          "height": 312
        },
        "id": "9dBu3yHd9Bzl",
        "outputId": "ed805c07-05e4-4237-fccc-0ddc4d781cbb"
      },
      "source": [
        "plt.scatter(x,y,color='orange')\n",
        "plt.plot(x,y_las_pred,color='black')\n",
        "plt.plot(x,y_pred,color = 'blue')\n",
        "plt.xlabel('Feature')\n",
        "plt.ylabel('Target')\n",
        "plt.title('comparison between Ridge and Lasso Regression')\n"
      ],
      "execution_count": 7,
      "outputs": [
        {
          "output_type": "execute_result",
          "data": {
            "text/plain": [
              "Text(0.5, 1.0, 'comparison between Ridge and Lasso Regression')"
            ]
          },
          "metadata": {},
          "execution_count": 7
        },
        {
          "output_type": "display_data",
          "data": {
            "image/png": "[encoded data removed]",
            "text/plain": [
              "<Figure size 432x288 with 1 Axes>"
            ]
          },
          "metadata": {
            "needs_background": "light"
          }
        }
      ]
    },
    {
      "cell_type": "code",
      "metadata": {
        "id": "WH3HfRl79Rps"
      },
      "source": [
        ""
      ],
      "execution_count": null,
      "outputs": []
    }
  ]
}