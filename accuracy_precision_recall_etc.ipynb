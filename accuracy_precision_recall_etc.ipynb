{
  "nbformat": 4,
  "nbformat_minor": 0,
  "metadata": {
    "colab": {
      "name": "accuracy precision recall etc.ipynb",
      "provenance": [],
      "collapsed_sections": [],
      "authorship_tag": "ABX9TyObz3RyMUbGnmo3pDj6YXjP",
      "include_colab_link": true
    },
    "kernelspec": {
      "name": "python3",
      "display_name": "Python 3"
    },
    "language_info": {
      "name": "python"
    }
  },
  "cells": [
    {
      "cell_type": "markdown",
      "metadata": {
        "id": "view-in-github",
        "colab_type": "text"
      },
      "source": [
        "<a href=\"https://colab.research.google.com/github/JITHINJITH/AI-LAB/blob/master/accuracy_precision_recall_etc.ipynb\" target=\"_parent\"><img src=\"https://colab.research.google.com/assets/colab-badge.svg\" alt=\"Open In Colab\"/></a>"
      ]
    },
    {
      "cell_type": "code",
      "metadata": {
        "colab": {
          "base_uri": "https://localhost:8080/",
          "height": 601
        },
        "id": "wgd68wTaVb5_",
        "outputId": "7b91fa79-ede8-4e54-fe3d-a51ec722c5d4"
      },
      "source": [
        "from sklearn.datasets import load_iris\n",
        "from sklearn.preprocessing import StandardScaler \n",
        "from sklearn.pipeline import Pipeline\n",
        "from sklearn.model_selection import * \n",
        "from sklearn.svm import LinearSVC\n",
        "from sklearn.linear_model import SGDClassifier \n",
        "from sklearn.linear_model import LogisticRegression \n",
        "from sklearn.metrics import *\n",
        "import matplotlib.pyplot as plt\n",
        "iris=load_iris() \n",
        "x=iris.data[50:150,2:]\n",
        "y=iris.target.reshape(150,1) \n",
        "y_new=y[50:150,:] \n",
        "y_new=y_new.ravel()\n",
        "\n",
        "\n",
        "model=Pipeline([('scaler',StandardScaler()),('linearsvm',LinearSVC(C=1,loss='hinge',max_iter=100000))])\n",
        "accuracy=cross_val_score(model,x,y_new,cv=3,scoring=\"accuracy\") \n",
        "y_pred=cross_val_predict(model,x,y_new,cv=3) \n",
        "confusionmatrix=confusion_matrix(y_new,y_pred) \n",
        "precision=precision_score(y_new,y_pred) \n",
        "recall=recall_score(y_new,y_pred) \n",
        "y_predscore=cross_val_predict(model,x,y_new,cv=3,method=\"decision_function\")\n",
        "fpr,tpr,th=roc_curve(y_new,y_predscore,pos_label=2) \n",
        "plt.plot(fpr,tpr,linewidth=2,label=None) \n",
        "print(\"SVM\")\n",
        "print(\"accuracy_1=\",accuracy) \n",
        "print(\"precision_1=\",precision) \n",
        "print(\"recall_1=\",recall) \n",
        "print(\"confusion matrix\",confusionmatrix)\n",
        "\n",
        "model=SGDClassifier()\n",
        "accuracy=cross_val_score(model,x,y_new,cv=3,scoring=\"accuracy\") \n",
        "y_pred=cross_val_predict(model,x,y_new,cv=3) \n",
        "confusionmatrix=confusion_matrix(y_new,y_pred) \n",
        "precision=precision_score(y_new,y_pred) \n",
        "recall=recall_score(y_new,y_pred) \n",
        "y_predscore=cross_val_predict(model,x,y_new,cv=3,method=\"decision_function\")\n",
        "fpr,tpr,th=roc_curve(y_new,y_predscore,pos_label=2)\n",
        "plt.plot(fpr,tpr,linewidth=2,label=None) \n",
        "print(\"SGD\")\n",
        "print(\"accuracy_2=\",accuracy) \n",
        "print(\"precision_2=\",precision) \n",
        "print(\"recall_2=\",recall) \n",
        "print(\"confusion matrix\",confusionmatrix)\n",
        "\n",
        "model=LogisticRegression()\n",
        "accuracy=cross_val_score(model,x,y_new,cv=3,scoring=\"accuracy\")\n",
        "y_pred=cross_val_predict(model,x,y_new,cv=3) \n",
        "confusionmatrix=confusion_matrix(y_new,y_pred) \n",
        "precision=precision_score(y_new,y_pred) \n",
        "recall=recall_score(y_new,y_pred) \n",
        "y_predscore=cross_val_predict(model,x,y_new,cv=3,method=\"decision_function\")\n",
        "fpr,tpr,th=roc_curve(y_new,y_predscore,pos_label=2) \n",
        "plt.plot(fpr,tpr,linewidth=2,label=None) \n",
        "plt.plot([0,1],[0,1],'k--')\n",
        "print(\"LOGISTIC\")\n",
        "print(\"accuracy_3=\",accuracy) \n",
        "print(\"precision_3=\",precision) \n",
        "print(\"recall_3=\",recall) \n",
        "print(\"confusion matrix\",confusionmatrix)\n",
        "plt.xlabel(\"false positive rate\")\n",
        "plt.ylabel(\"true positive rate\") \n",
        "plt.title(\"ROC curve\") \n",
        "plt.legend(['SVM','SGDCLASSIFIER','LOGISTIC'])\n",
        "plt.show()\n"
      ],
      "execution_count": 1,
      "outputs": [
        {
          "output_type": "stream",
          "name": "stdout",
          "text": [
            "SVM\n",
            "accuracy_1= [0.97058824 0.87878788 0.93939394]\n",
            "precision_1= 0.9215686274509803\n",
            "recall_1= 0.94\n",
            "confusion matrix [[47  3]\n",
            " [ 4 46]]\n",
            "SGD\n",
            "accuracy_2= [0.58823529 0.87878788 0.72727273]\n",
            "precision_2= 0.7\n",
            "recall_2= 0.7\n",
            "confusion matrix [[35 15]\n",
            " [15 35]]\n",
            "LOGISTIC\n",
            "accuracy_3= [0.97058824 0.90909091 0.93939394]\n",
            "precision_3= 0.94\n",
            "recall_3= 0.94\n",
            "confusion matrix [[47  3]\n",
            " [ 3 47]]\n"
          ]
        },
        {
          "output_type": "display_data",
          "data": {
            "image/png": "[encoded data removed]",
            "text/plain": [
              "<Figure size 432x288 with 1 Axes>"
            ]
          },
          "metadata": {
            "needs_background": "light"
          }
        }
      ]
    },
    {
      "cell_type": "code",
      "metadata": {
        "id": "oYusodhKVdfw"
      },
      "source": [
        ""
      ],
      "execution_count": null,
      "outputs": []
    }
  ]
}