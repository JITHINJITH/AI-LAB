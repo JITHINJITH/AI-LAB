{
  "nbformat": 4,
  "nbformat_minor": 0,
  "metadata": {
    "colab": {
      "name": "MLP classification on forest cover dataset.ipynb",
      "provenance": [],
      "collapsed_sections": [],
      "authorship_tag": "ABX9TyOrx12Jd9TPP7BHQ+Rtd6Xw",
      "include_colab_link": true
    },
    "kernelspec": {
      "name": "python3",
      "display_name": "Python 3"
    },
    "language_info": {
      "name": "python"
    }
  },
  "cells": [
    {
      "cell_type": "markdown",
      "metadata": {
        "id": "view-in-github",
        "colab_type": "text"
      },
      "source": [
        "<a href=\"https://colab.research.google.com/github/JITHINJITH/AI-LAB/blob/master/MLP_classification_on_forest_cover_dataset.ipynb\" target=\"_parent\"><img src=\"https://colab.research.google.com/assets/colab-badge.svg\" alt=\"Open In Colab\"/></a>"
      ]
    },
    {
      "cell_type": "code",
      "metadata": {
        "colab": {
          "base_uri": "https://localhost:8080/"
        },
        "id": "TjrGspIT2Y5L",
        "outputId": "b6e496e2-e570-4657-b00a-0a442efc72e9"
      },
      "source": [
        "# Load Data set\n",
        "from sklearn.datasets import fetch_covtype\n",
        "import matplotlib.pyplot as plt\n",
        "from tensorflow import keras\n",
        "\n",
        "#Load data\n",
        "X,y=fetch_covtype(return_X_y=True)"
      ],
      "execution_count": 1,
      "outputs": [
        {
          "output_type": "stream",
          "name": "stderr",
          "text": [
            "Downloading https://ndownloader.figshare.com/files/5976039\n"
          ]
        }
      ]
    },
    {
      "cell_type": "code",
      "metadata": {
        "colab": {
          "base_uri": "https://localhost:8080/"
        },
        "id": "694ZDxQ22fjM",
        "outputId": "9e4e5831-bbe3-4bf0-bfef-5c66e003b277"
      },
      "source": [
        "from sklearn.model_selection import train_test_split\n",
        "X_train,X_test,y_train,y_test=train_test_split(X,y,test_size=0.2,random_state=42)\n",
        "\n",
        "\n",
        "#Defining the model- Input and Hidden Layer Construction\n",
        "model_DNN =keras.models.Sequential()\n",
        "model_DNN.add(keras.layers.Dense(units=12, activation= 'relu',input_shape=X_train.shape[1:]))\n",
        "model_DNN.add(keras.layers.Dense(units=10, activation='relu' ))\n",
        "model_DNN.add(keras.layers.Dense(units=8, activation='relu' ))\n",
        "model_DNN.add(keras.layers.Dense(units=54, activation='sigmoid' ))\n",
        "model_DNN.summary()"
      ],
      "execution_count": 2,
      "outputs": [
        {
          "output_type": "stream",
          "name": "stdout",
          "text": [
            "Model: \"sequential\"\n",
            "_________________________________________________________________\n",
            "Layer (type)                 Output Shape              Param #   \n",
            "=================================================================\n",
            "dense (Dense)                (None, 12)                660       \n",
            "_________________________________________________________________\n",
            "dense_1 (Dense)              (None, 10)                130       \n",
            "_________________________________________________________________\n",
            "dense_2 (Dense)              (None, 8)                 88        \n",
            "_________________________________________________________________\n",
            "dense_3 (Dense)              (None, 54)                486       \n",
            "=================================================================\n",
            "Total params: 1,364\n",
            "Trainable params: 1,364\n",
            "Non-trainable params: 0\n",
            "_________________________________________________________________\n"
          ]
        }
      ]
    },
    {
      "cell_type": "code",
      "metadata": {
        "colab": {
          "base_uri": "https://localhost:8080/"
        },
        "id": "yNlo6ddw3IbK",
        "outputId": "111be81e-ec9e-4f69-a765-d6e4e37b76df"
      },
      "source": [
        "model_DNN.compile(loss='sparse_categorical_crossentropy', optimizer='adam', metrics=['accuracy'])\n",
        "model_DNN.fit(X_train,y_train,validation_split=0.1,epochs=5,batch_size=16)\n",
        "testloss,testaccuracy=model_DNN.evaluate(X_test,y_test)\n",
        "print ('The test loss is',testloss)\n",
        "print('The test accuracy is',testaccuracy)"
      ],
      "execution_count": 3,
      "outputs": [
        {
          "output_type": "stream",
          "name": "stdout",
          "text": [
            "Epoch 1/5\n",
            "26146/26146 [==============================] - 43s 2ms/step - loss: 1.8927 - accuracy: 0.6039 - val_loss: 0.7634 - val_accuracy: 0.6707\n",
            "Epoch 2/5\n",
            "26146/26146 [==============================] - 42s 2ms/step - loss: 0.7506 - accuracy: 0.6843 - val_loss: 0.8038 - val_accuracy: 0.6510\n",
            "Epoch 3/5\n",
            "26146/26146 [==============================] - 42s 2ms/step - loss: 0.7249 - accuracy: 0.6910 - val_loss: 0.6882 - val_accuracy: 0.7110\n",
            "Epoch 4/5\n",
            "26146/26146 [==============================] - 42s 2ms/step - loss: 0.7049 - accuracy: 0.7017 - val_loss: 0.6919 - val_accuracy: 0.7151\n",
            "Epoch 5/5\n",
            "26146/26146 [==============================] - 42s 2ms/step - loss: 0.6924 - accuracy: 0.7085 - val_loss: 0.6672 - val_accuracy: 0.7239\n",
            "3632/3632 [==============================] - 4s 1ms/step - loss: 0.6729 - accuracy: 0.7213\n",
            "The test loss is 0.6729245781898499\n",
            "The test accuracy is 0.7212722301483154\n"
          ]
        }
      ]
    },
    {
      "cell_type": "code",
      "metadata": {
        "id": "R5QnbZxD3Na5"
      },
      "source": [
        ""
      ],
      "execution_count": null,
      "outputs": []
    }
  ]
}