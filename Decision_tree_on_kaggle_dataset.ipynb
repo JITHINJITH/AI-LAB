{
  "nbformat": 4,
  "nbformat_minor": 0,
  "metadata": {
    "colab": {
      "name": "Decision tree on kaggle dataset",
      "provenance": [],
      "collapsed_sections": [],
      "authorship_tag": "ABX9TyNNaexoIal8eaNqIm2JdnRC",
      "include_colab_link": true
    },
    "kernelspec": {
      "name": "python3",
      "display_name": "Python 3"
    },
    "language_info": {
      "name": "python"
    }
  },
  "cells": [
    {
      "cell_type": "markdown",
      "metadata": {
        "id": "view-in-github",
        "colab_type": "text"
      },
      "source": [
        "<a href=\"https://colab.research.google.com/github/JITHINJITH/AI-LAB/blob/master/Decision_tree_on_kaggle_dataset.ipynb\" target=\"_parent\"><img src=\"https://colab.research.google.com/assets/colab-badge.svg\" alt=\"Open In Colab\"/></a>"
      ]
    },
    {
      "cell_type": "code",
      "metadata": {
        "id": "1HIHG7vcMxJE"
      },
      "source": [
        "import numpy as np\n",
        "import pandas as pd\n",
        "heart = pd.read_csv('/content/heart.csv')\n",
        "x = heart.iloc[:,:-1].values\n",
        "y = heart.iloc[:,-1].values"
      ],
      "execution_count": 23,
      "outputs": []
    },
    {
      "cell_type": "code",
      "metadata": {
        "id": "W1w3ZG-ZSoII"
      },
      "source": [
        "f_names = heart.columns[:-1]\n",
        "c_names = heart.columns[-1]"
      ],
      "execution_count": 27,
      "outputs": []
    },
    {
      "cell_type": "code",
      "metadata": {
        "colab": {
          "base_uri": "https://localhost:8080/"
        },
        "id": "6rpHHH9wNnu_",
        "outputId": "5de1fa2d-ff7b-4c64-8c4e-cbc0a1e761bf"
      },
      "source": [
        "from sklearn.tree import DecisionTreeClassifier\n",
        "tree = DecisionTreeClassifier()\n",
        "tree.fit(x,y)"
      ],
      "execution_count": 28,
      "outputs": [
        {
          "output_type": "execute_result",
          "data": {
            "text/plain": [
              "DecisionTreeClassifier(ccp_alpha=0.0, class_weight=None, criterion='gini',\n",
              "                       max_depth=None, max_features=None, max_leaf_nodes=None,\n",
              "                       min_impurity_decrease=0.0, min_impurity_split=None,\n",
              "                       min_samples_leaf=1, min_samples_split=2,\n",
              "                       min_weight_fraction_leaf=0.0, presort='deprecated',\n",
              "                       random_state=None, splitter='best')"
            ]
          },
          "metadata": {},
          "execution_count": 28
        }
      ]
    },
    {
      "cell_type": "code",
      "metadata": {
        "colab": {
          "base_uri": "https://localhost:8080/"
        },
        "id": "fkcSvuDGOHQX",
        "outputId": "e275fc23-2ce3-4af2-b2b5-0363f6be952d"
      },
      "source": [
        "tree.predict([[1,1.5,2,3.5,4,0.5,3,4,5,6,7,12,2]])"
      ],
      "execution_count": 29,
      "outputs": [
        {
          "output_type": "execute_result",
          "data": {
            "text/plain": [
              "array([0])"
            ]
          },
          "metadata": {},
          "execution_count": 29
        }
      ]
    },
    {
      "cell_type": "code",
      "metadata": {
        "colab": {
          "base_uri": "https://localhost:8080/",
          "height": 35
        },
        "id": "YYONCXD7ORJn",
        "outputId": "75e7f661-5d79-4826-dbff-34df34c574c9"
      },
      "source": [
        "from sklearn.tree import export_graphviz\n",
        "eg = export_graphviz(tree, feature_names=f_names,class_names=c_names,filled = True,rounded=False)\n",
        "import graphviz\n",
        "graph = graphviz.Source(eg)\n",
        "graph.render('decision_tree_heart')\n"
      ],
      "execution_count": 30,
      "outputs": [
        {
          "output_type": "execute_result",
          "data": {
            "application/vnd.google.colaboratory.intrinsic+json": {
              "type": "string"
            },
            "text/plain": [
              "'decision_tree_heart.pdf'"
            ]
          },
          "metadata": {},
          "execution_count": 30
        }
      ]
    },
    {
      "cell_type": "code",
      "metadata": {
        "id": "KIJsApvrO5Gx"
      },
      "source": [
        ""
      ],
      "execution_count": null,
      "outputs": []
    }
  ]
}