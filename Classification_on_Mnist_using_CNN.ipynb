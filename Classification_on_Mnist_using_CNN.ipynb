{
  "nbformat": 4,
  "nbformat_minor": 0,
  "metadata": {
    "colab": {
      "name": "Classification on Mnist using CNN.ipynb",
      "provenance": [],
      "collapsed_sections": [],
      "authorship_tag": "ABX9TyNchTfIMiKfBlwW46uG6vzq",
      "include_colab_link": true
    },
    "kernelspec": {
      "name": "python3",
      "display_name": "Python 3"
    },
    "language_info": {
      "name": "python"
    }
  },
  "cells": [
    {
      "cell_type": "markdown",
      "metadata": {
        "id": "view-in-github",
        "colab_type": "text"
      },
      "source": [
        "<a href=\"https://colab.research.google.com/github/JITHINJITH/AI-LAB/blob/master/Classification_on_Mnist_using_CNN.ipynb\" target=\"_parent\"><img src=\"https://colab.research.google.com/assets/colab-badge.svg\" alt=\"Open In Colab\"/></a>"
      ]
    },
    {
      "cell_type": "code",
      "metadata": {
        "id": "yL_Bwl7hG-E_"
      },
      "source": [
        "from tensorflow import keras\n",
        "mnist = keras.datasets.mnist\n",
        "import matplotlib.pyplot as plt\n",
        "import numpy as np"
      ],
      "execution_count": 28,
      "outputs": []
    },
    {
      "cell_type": "code",
      "metadata": {
        "colab": {
          "base_uri": "https://localhost:8080/",
          "height": 265
        },
        "id": "2P9DVGBmHCYo",
        "outputId": "6933429e-a7b0-42ea-a0ee-6357a5966706"
      },
      "source": [
        "(x_train,y_train),(x_test,y_test) = mnist.load_data()\n",
        "plt.imshow(x_train[1500],cmap = 'binary')\n",
        "x_train = x_train.reshape(60000,28,28,1)\n",
        "x_test = x_test.reshape(10000,28,28,1)"
      ],
      "execution_count": 29,
      "outputs": [
        {
          "output_type": "display_data",
          "data": {
            "image/png": "[encoded data removed]",
            "text/plain": [
              "<Figure size 432x288 with 1 Axes>"
            ]
          },
          "metadata": {
            "needs_background": "light"
          }
        }
      ]
    },
    {
      "cell_type": "code",
      "metadata": {
        "id": "7tvtI-q9NYse"
      },
      "source": [
        "x_train = x_train.astype(dtype = np.float32)/255\n",
        "x_test = x_test.astype(dtype = np.float32)/255"
      ],
      "execution_count": 30,
      "outputs": []
    },
    {
      "cell_type": "code",
      "metadata": {
        "colab": {
          "base_uri": "https://localhost:8080/"
        },
        "id": "nmAo7T5YLHZJ",
        "outputId": "dd11ab38-8825-4bd3-f320-fc354040d1da"
      },
      "source": [
        "ml = keras.models.Sequential()\n",
        "ml.add(keras.layers.Conv2D(32,(3,3),activation='relu',input_shape = x_train.shape[1:]))\n",
        "ml.add(keras.layers.Conv2D(64,(3,3),activation='relu'))\n",
        "ml.add(keras.layers.MaxPool2D((2,2)))\n",
        "ml.add(keras.layers.Dropout(0.25))\n",
        "ml.add(keras.layers.Conv2D(128,(3,3),activation='relu'))\n",
        "ml.add(keras.layers.BatchNormalization())\n",
        "ml.add(keras.layers.Flatten())\n",
        "ml.add(keras.layers.Dense(units = 256,activation='relu'))\n",
        "ml.add(keras.layers.Dropout(0.25))\n",
        "ml.add(keras.layers.Dense(units = 10,activation='softmax'))\n",
        "ml.summary()"
      ],
      "execution_count": 38,
      "outputs": [
        {
          "output_type": "stream",
          "name": "stdout",
          "text": [
            "Model: \"sequential_5\"\n",
            "_________________________________________________________________\n",
            "Layer (type)                 Output Shape              Param #   \n",
            "=================================================================\n",
            "conv2d_4 (Conv2D)            (None, 26, 26, 32)        320       \n",
            "_________________________________________________________________\n",
            "conv2d_5 (Conv2D)            (None, 24, 24, 64)        18496     \n",
            "_________________________________________________________________\n",
            "max_pooling2d_1 (MaxPooling2 (None, 12, 12, 64)        0         \n",
            "_________________________________________________________________\n",
            "dropout_2 (Dropout)          (None, 12, 12, 64)        0         \n",
            "_________________________________________________________________\n",
            "conv2d_6 (Conv2D)            (None, 10, 10, 128)       73856     \n",
            "_________________________________________________________________\n",
            "batch_normalization_1 (Batch (None, 10, 10, 128)       512       \n",
            "_________________________________________________________________\n",
            "flatten_1 (Flatten)          (None, 12800)             0         \n",
            "_________________________________________________________________\n",
            "dense_2 (Dense)              (None, 256)               3277056   \n",
            "_________________________________________________________________\n",
            "dropout_3 (Dropout)          (None, 256)               0         \n",
            "_________________________________________________________________\n",
            "dense_3 (Dense)              (None, 10)                2570      \n",
            "=================================================================\n",
            "Total params: 3,372,810\n",
            "Trainable params: 3,372,554\n",
            "Non-trainable params: 256\n",
            "_________________________________________________________________\n"
          ]
        }
      ]
    },
    {
      "cell_type": "code",
      "metadata": {
        "colab": {
          "base_uri": "https://localhost:8080/"
        },
        "id": "bBKIKmTkL5Ac",
        "outputId": "ebbb4347-fa52-48f7-ca56-8ddd5fe3d274"
      },
      "source": [
        "ml.compile(optimizer='adam',loss='sparse_categorical_crossentropy',metrics = ['accuracy'])\n",
        "es = keras.callbacks.EarlyStopping(monitor='loss',patience=10,restore_best_weights=True)\n",
        "cp = keras.callbacks.ModelCheckpoint(filepath='/contents/mycnn.h5',monitor='val_loss',)\n",
        "ml.fit(x=x_train,y = y_train,validation_split=0.1,epochs=2,batch_size=16,callbacks=[es,cp])"
      ],
      "execution_count": 40,
      "outputs": [
        {
          "output_type": "stream",
          "name": "stdout",
          "text": [
            "Epoch 1/2\n",
            "3375/3375 [==============================] - 272s 80ms/step - loss: 0.1314 - accuracy: 0.9613 - val_loss: 0.0703 - val_accuracy: 0.9810\n",
            "Epoch 2/2\n",
            "3375/3375 [==============================] - 273s 81ms/step - loss: 0.0665 - accuracy: 0.9817 - val_loss: 0.0547 - val_accuracy: 0.9862\n"
          ]
        },
        {
          "output_type": "execute_result",
          "data": {
            "text/plain": [
              "<keras.callbacks.History at 0x7f587adb6f10>"
            ]
          },
          "metadata": {},
          "execution_count": 40
        }
      ]
    },
    {
      "cell_type": "code",
      "metadata": {
        "colab": {
          "base_uri": "https://localhost:8080/"
        },
        "id": "gJxr29LHUUpY",
        "outputId": "b5cf0126-7927-4fb4-c875-1ba7215e3452"
      },
      "source": [
        "loss,acc = ml.evaluate(x_test,y_test)"
      ],
      "execution_count": 41,
      "outputs": [
        {
          "output_type": "stream",
          "name": "stdout",
          "text": [
            "313/313 [==============================] - 10s 32ms/step - loss: 0.0458 - accuracy: 0.9868\n"
          ]
        }
      ]
    },
    {
      "cell_type": "code",
      "metadata": {
        "colab": {
          "base_uri": "https://localhost:8080/"
        },
        "id": "7xqPy3H7X48g",
        "outputId": "12ac7d36-03bf-4537-dd0a-21f7d4c7e6c1"
      },
      "source": [
        "loss"
      ],
      "execution_count": 42,
      "outputs": [
        {
          "output_type": "execute_result",
          "data": {
            "text/plain": [
              "0.04576851427555084"
            ]
          },
          "metadata": {},
          "execution_count": 42
        }
      ]
    },
    {
      "cell_type": "code",
      "metadata": {
        "colab": {
          "base_uri": "https://localhost:8080/"
        },
        "id": "dwUc-r4fX-s1",
        "outputId": "53529b3e-9e71-4630-8f0d-174de42d1d13"
      },
      "source": [
        "acc"
      ],
      "execution_count": 43,
      "outputs": [
        {
          "output_type": "execute_result",
          "data": {
            "text/plain": [
              "0.9868000149726868"
            ]
          },
          "metadata": {},
          "execution_count": 43
        }
      ]
    },
    {
      "cell_type": "code",
      "metadata": {
        "id": "u8HOSKz6YAAf"
      },
      "source": [
        ""
      ],
      "execution_count": null,
      "outputs": []
    }
  ]
}