{
  "nbformat": 4,
  "nbformat_minor": 0,
  "metadata": {
    "colab": {
      "name": "kmeans on make_blob.ipynb",
      "provenance": [],
      "collapsed_sections": [],
      "authorship_tag": "ABX9TyML57g3SsY8eRiJaYLwiAgw",
      "include_colab_link": true
    },
    "kernelspec": {
      "name": "python3",
      "display_name": "Python 3"
    },
    "language_info": {
      "name": "python"
    }
  },
  "cells": [
    {
      "cell_type": "markdown",
      "metadata": {
        "id": "view-in-github",
        "colab_type": "text"
      },
      "source": [
        "<a href=\"https://colab.research.google.com/github/JITHINJITH/AI-LAB/blob/master/kmeans_on_make_blob.ipynb\" target=\"_parent\"><img src=\"https://colab.research.google.com/assets/colab-badge.svg\" alt=\"Open In Colab\"/></a>"
      ]
    },
    {
      "cell_type": "code",
      "metadata": {
        "id": "w48ZXtFf-4Fx"
      },
      "source": [
        "import numpy as np\n",
        "import pandas as pd\n",
        "import matplotlib.pyplot as plt"
      ],
      "execution_count": 47,
      "outputs": []
    },
    {
      "cell_type": "code",
      "metadata": {
        "id": "A1VquK4UC57_"
      },
      "source": [
        "from sklearn.datasets import make_blobs\n",
        "x,y = make_blobs(n_samples=180,n_features = 4,centers=3,cluster_std = 0.6, random_state=42)"
      ],
      "execution_count": 44,
      "outputs": []
    },
    {
      "cell_type": "code",
      "metadata": {
        "colab": {
          "base_uri": "https://localhost:8080/"
        },
        "id": "RZbC6HAbDJe2",
        "outputId": "56db97a3-b954-40f6-bc2d-17d5781bc6e1"
      },
      "source": [
        "from sklearn.cluster import KMeans\n",
        "kmeans = KMeans(n_clusters=3,init='k-means++', random_state=42)\n",
        "kmeans.fit(x)\n",
        "y_kmeans = kmeans.predict(x)\n",
        "y_kmeans"
      ],
      "execution_count": 45,
      "outputs": [
        {
          "output_type": "execute_result",
          "data": {
            "text/plain": [
              "array([1, 1, 2, 0, 2, 2, 0, 1, 2, 2, 1, 2, 2, 0, 1, 2, 2, 0, 1, 0, 2, 0,\n",
              "       1, 0, 1, 0, 2, 0, 2, 2, 2, 2, 2, 0, 2, 0, 1, 0, 0, 2, 1, 0, 2, 2,\n",
              "       2, 1, 2, 1, 2, 0, 1, 0, 1, 0, 1, 1, 2, 2, 1, 1, 1, 1, 0, 0, 1, 0,\n",
              "       1, 1, 1, 0, 0, 0, 0, 1, 2, 0, 0, 2, 1, 1, 0, 2, 0, 1, 2, 2, 0, 2,\n",
              "       0, 1, 1, 0, 1, 2, 0, 2, 1, 1, 1, 2, 1, 2, 1, 0, 0, 1, 2, 2, 0, 2,\n",
              "       0, 2, 0, 2, 0, 2, 0, 0, 2, 0, 0, 0, 1, 2, 2, 2, 1, 1, 0, 0, 1, 2,\n",
              "       2, 1, 0, 2, 1, 1, 1, 1, 0, 1, 1, 0, 1, 2, 0, 1, 2, 2, 2, 1, 1, 2,\n",
              "       2, 1, 1, 1, 0, 0, 0, 0, 0, 2, 2, 2, 1, 1, 2, 1, 0, 1, 0, 2, 2, 0,\n",
              "       0, 1, 0, 0], dtype=int32)"
            ]
          },
          "metadata": {},
          "execution_count": 45
        }
      ]
    },
    {
      "cell_type": "code",
      "metadata": {
        "colab": {
          "base_uri": "https://localhost:8080/",
          "height": 295
        },
        "id": "5TTdWNAGDbsV",
        "outputId": "3f9c090d-9b71-4261-e7ca-1f3fafc36b85"
      },
      "source": [
        "plt.scatter(x[y_kmeans ==0,0],x[y_kmeans ==0,1],s=100,c = 'red',label = 'cluster1')\n",
        "plt.scatter(x[y_kmeans ==1,0],x[y_kmeans ==1,1],s=100,c = 'blue',label = 'cluster2')\n",
        "plt.scatter(x[y_kmeans ==2,0],x[y_kmeans ==2,1],s=100,c = 'green',label = 'cluster3')\n",
        "plt.scatter(kmeans.cluster_centers_[:,0],kmeans.cluster_centers_[:,1],s=100,c = 'black')\n",
        "plt.legend()\n",
        "plt.xlabel('Feature1')\n",
        "plt.ylabel('Feature2')\n",
        "plt.title('clustering of m_blob')\n",
        "plt.show()"
      ],
      "execution_count": 46,
      "outputs": [
        {
          "output_type": "display_data",
          "data": {
            "image/png": "[encoded data removed]",
            "text/plain": [
              "<Figure size 432x288 with 1 Axes>"
            ]
          },
          "metadata": {
            "needs_background": "light"
          }
        }
      ]
    },
    {
      "cell_type": "code",
      "metadata": {
        "id": "42VzhbtDFGZf"
      },
      "source": [
        ""
      ],
      "execution_count": null,
      "outputs": []
    }
  ]
}