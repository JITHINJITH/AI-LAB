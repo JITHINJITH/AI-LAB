{
  "nbformat": 4,
  "nbformat_minor": 0,
  "metadata": {
    "colab": {
      "name": "Lasso_regression.ipynb",
      "provenance": [],
      "collapsed_sections": [],
      "authorship_tag": "ABX9TyOa1D54vPSvGEgJI1FDEnNd",
      "include_colab_link": true
    },
    "kernelspec": {
      "name": "python3",
      "display_name": "Python 3"
    },
    "language_info": {
      "name": "python"
    }
  },
  "cells": [
    {
      "cell_type": "markdown",
      "metadata": {
        "id": "view-in-github",
        "colab_type": "text"
      },
      "source": [
        "<a href=\"https://colab.research.google.com/github/JITHINJITH/AI-LAB/blob/master/Lasso_regression.ipynb\" target=\"_parent\"><img src=\"https://colab.research.google.com/assets/colab-badge.svg\" alt=\"Open In Colab\"/></a>"
      ]
    },
    {
      "cell_type": "code",
      "metadata": {
        "colab": {
          "base_uri": "https://localhost:8080/"
        },
        "id": "W1t_XllEyKs7",
        "outputId": "7cd58635-bbe5-482e-90ce-bd066792fbec"
      },
      "source": [
        "import numpy as np\n",
        "import pandas as pd\n",
        "import matplotlib.pyplot as plt\n",
        "\n",
        "#Create data \n",
        "from sklearn.datasets import make_regression\n",
        "data = make_regression(n_samples=10,n_features=1,\n",
        "                       n_targets=1,bias=10,noise=2,random_state=42)\n",
        "x = pd.DataFrame(data[0]).values\n",
        "y = pd.Series(data[1]).values\n",
        "\n",
        "#Build model\n",
        "from sklearn.linear_model import Lasso\n",
        "lasso = Lasso(alpha=5)\n",
        "\n",
        "#Fit model\n",
        "lasso.fit(x,y)\n",
        "\n",
        "#Predict\n",
        "y_las_pred = lasso.predict(x)\n",
        "lasso.predict([[2]])"
      ],
      "execution_count": 1,
      "outputs": [
        {
          "output_type": "execute_result",
          "data": {
            "text/plain": [
              "array([29.09962507])"
            ]
          },
          "metadata": {},
          "execution_count": 1
        }
      ]
    },
    {
      "cell_type": "code",
      "metadata": {
        "id": "GrNd_QbTNmqM",
        "colab": {
          "base_uri": "https://localhost:8080/"
        },
        "outputId": "2ded831c-b6ae-459c-a404-66a17255cebf"
      },
      "source": [
        "# Linear Regression\n",
        "from sklearn.linear_model import LinearRegression\n",
        "lin = LinearRegression()\n",
        "lin.fit(x,y)\n",
        "y_lin_pred = lin.predict(x)\n",
        "lin.predict([[2]])"
      ],
      "execution_count": 4,
      "outputs": [
        {
          "output_type": "execute_result",
          "data": {
            "text/plain": [
              "array([45.59322684])"
            ]
          },
          "metadata": {},
          "execution_count": 4
        }
      ]
    },
    {
      "cell_type": "code",
      "metadata": {
        "colab": {
          "base_uri": "https://localhost:8080/",
          "height": 312
        },
        "id": "tn0wdB56OIW6",
        "outputId": "5bbf5f81-462e-4d57-b42d-6cfe86364140"
      },
      "source": [
        "plt.scatter(x,y,color='red')\n",
        "plt.plot(x,y_lin_pred,color='blue')\n",
        "plt.plot(x,y_las_pred,color = 'black',)\n",
        "plt.xlabel('Feature')\n",
        "plt.ylabel('Target')\n",
        "plt.title('comparison between Lasso and Linear Regression')"
      ],
      "execution_count": 5,
      "outputs": [
        {
          "output_type": "execute_result",
          "data": {
            "text/plain": [
              "Text(0.5, 1.0, 'comparison between Lasso and Linear Regression')"
            ]
          },
          "metadata": {},
          "execution_count": 5
        },
        {
          "output_type": "display_data",
          "data": {
            "image/png": "[encoded data removed]",
            "text/plain": [
              "<Figure size 432x288 with 1 Axes>"
            ]
          },
          "metadata": {
            "needs_background": "light"
          }
        }
      ]
    },
    {
      "cell_type": "code",
      "metadata": {
        "id": "m6B_KRE6PQ98"
      },
      "source": [
        ""
      ],
      "execution_count": null,
      "outputs": []
    }
  ]
}