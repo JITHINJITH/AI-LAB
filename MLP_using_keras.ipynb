{
  "nbformat": 4,
  "nbformat_minor": 0,
  "metadata": {
    "colab": {
      "name": "MLP using keras.ipynb",
      "provenance": [],
      "collapsed_sections": [],
      "authorship_tag": "ABX9TyPGTbCPpJMjB+xrRhSouEIk",
      "include_colab_link": true
    },
    "kernelspec": {
      "name": "python3",
      "display_name": "Python 3"
    },
    "language_info": {
      "name": "python"
    }
  },
  "cells": [
    {
      "cell_type": "markdown",
      "metadata": {
        "id": "view-in-github",
        "colab_type": "text"
      },
      "source": [
        "<a href=\"https://colab.research.google.com/github/JITHINJITH/AI-LAB/blob/master/MLP_using_keras.ipynb\" target=\"_parent\"><img src=\"https://colab.research.google.com/assets/colab-badge.svg\" alt=\"Open In Colab\"/></a>"
      ]
    },
    {
      "cell_type": "code",
      "metadata": {
        "id": "z0LkC9s4-bWH"
      },
      "source": [
        "import numpy as np\n",
        "from tensorflow import keras "
      ],
      "execution_count": 1,
      "outputs": []
    },
    {
      "cell_type": "code",
      "metadata": {
        "id": "1B4VmvdP_RNs"
      },
      "source": [
        "from sklearn.datasets import load_boston\n",
        "boston = load_boston()\n",
        "x = boston.data\n",
        "y = boston.target"
      ],
      "execution_count": 2,
      "outputs": []
    },
    {
      "cell_type": "code",
      "metadata": {
        "id": "6rZYZZfmEu7O"
      },
      "source": [
        "from sklearn.model_selection import train_test_split\n",
        "x_train,x_test,y_train,y_test = train_test_split(x,y,test_size=0.2,random_state=42)"
      ],
      "execution_count": 3,
      "outputs": []
    },
    {
      "cell_type": "code",
      "metadata": {
        "colab": {
          "base_uri": "https://localhost:8080/"
        },
        "id": "1nw-XsI5FGeR",
        "outputId": "8654c66e-09a3-4ab8-9e89-8e4e1874d0b2"
      },
      "source": [
        "ml = keras.models.Sequential()\n",
        "ml.add(keras.layers.Dense(units=5,activation='relu',input_shape = x.shape[1:]))\n",
        "ml.add(keras.layers.Dense(units=3,activation='relu'))\n",
        "ml.add(keras.layers.Dense(units=1,activation='linear'))\n",
        "ml.summary()"
      ],
      "execution_count": 6,
      "outputs": [
        {
          "output_type": "stream",
          "name": "stdout",
          "text": [
            "Model: \"sequential_2\"\n",
            "_________________________________________________________________\n",
            "Layer (type)                 Output Shape              Param #   \n",
            "=================================================================\n",
            "dense (Dense)                (None, 5)                 70        \n",
            "_________________________________________________________________\n",
            "dense_1 (Dense)              (None, 3)                 18        \n",
            "_________________________________________________________________\n",
            "dense_2 (Dense)              (None, 1)                 4         \n",
            "=================================================================\n",
            "Total params: 92\n",
            "Trainable params: 92\n",
            "Non-trainable params: 0\n",
            "_________________________________________________________________\n"
          ]
        }
      ]
    },
    {
      "cell_type": "code",
      "metadata": {
        "colab": {
          "base_uri": "https://localhost:8080/"
        },
        "id": "HKOM_m11FOqh",
        "outputId": "3946998e-c1bc-4da7-c86c-cd5ba13b2004"
      },
      "source": [
        "ml.compile(optimizer='adam',loss='mean_squared_error',metrics=['mean_absolute_error'])\n",
        "ml.fit(x=x_train,y=y_train,validation_split=0.1,epochs=15,batch_size=16)"
      ],
      "execution_count": 8,
      "outputs": [
        {
          "output_type": "stream",
          "name": "stdout",
          "text": [
            "Epoch 1/15\n",
            "23/23 [==============================] - 1s 10ms/step - loss: 135.0562 - mean_absolute_error: 8.8874 - val_loss: 85.0755 - val_mean_absolute_error: 6.9378\n",
            "Epoch 2/15\n",
            "23/23 [==============================] - 0s 2ms/step - loss: 102.4540 - mean_absolute_error: 7.6332 - val_loss: 78.4017 - val_mean_absolute_error: 6.5813\n",
            "Epoch 3/15\n",
            "23/23 [==============================] - 0s 2ms/step - loss: 92.8589 - mean_absolute_error: 7.1831 - val_loss: 74.9680 - val_mean_absolute_error: 6.3632\n",
            "Epoch 4/15\n",
            "23/23 [==============================] - 0s 2ms/step - loss: 84.8488 - mean_absolute_error: 6.7349 - val_loss: 72.4144 - val_mean_absolute_error: 6.2470\n",
            "Epoch 5/15\n",
            "23/23 [==============================] - 0s 2ms/step - loss: 78.5506 - mean_absolute_error: 6.4909 - val_loss: 72.1253 - val_mean_absolute_error: 6.1538\n",
            "Epoch 6/15\n",
            "23/23 [==============================] - 0s 2ms/step - loss: 73.8888 - mean_absolute_error: 6.2237 - val_loss: 71.6926 - val_mean_absolute_error: 6.1737\n",
            "Epoch 7/15\n",
            "23/23 [==============================] - 0s 2ms/step - loss: 71.8970 - mean_absolute_error: 6.2062 - val_loss: 72.2610 - val_mean_absolute_error: 6.1517\n",
            "Epoch 8/15\n",
            "23/23 [==============================] - 0s 3ms/step - loss: 69.9137 - mean_absolute_error: 6.1334 - val_loss: 72.6163 - val_mean_absolute_error: 6.1896\n",
            "Epoch 9/15\n",
            "23/23 [==============================] - 0s 2ms/step - loss: 68.5222 - mean_absolute_error: 6.1732 - val_loss: 73.1598 - val_mean_absolute_error: 6.2282\n",
            "Epoch 10/15\n",
            "23/23 [==============================] - 0s 2ms/step - loss: 67.3913 - mean_absolute_error: 6.0433 - val_loss: 73.4022 - val_mean_absolute_error: 6.2620\n",
            "Epoch 11/15\n",
            "23/23 [==============================] - 0s 2ms/step - loss: 66.9124 - mean_absolute_error: 6.0573 - val_loss: 73.9387 - val_mean_absolute_error: 6.2957\n",
            "Epoch 12/15\n",
            "23/23 [==============================] - 0s 3ms/step - loss: 66.8610 - mean_absolute_error: 6.0813 - val_loss: 74.5303 - val_mean_absolute_error: 6.3289\n",
            "Epoch 13/15\n",
            "23/23 [==============================] - 0s 2ms/step - loss: 66.0993 - mean_absolute_error: 5.9995 - val_loss: 73.7217 - val_mean_absolute_error: 6.2986\n",
            "Epoch 14/15\n",
            "23/23 [==============================] - 0s 3ms/step - loss: 65.7452 - mean_absolute_error: 5.9974 - val_loss: 74.2760 - val_mean_absolute_error: 6.3136\n",
            "Epoch 15/15\n",
            "23/23 [==============================] - 0s 2ms/step - loss: 66.0433 - mean_absolute_error: 6.0228 - val_loss: 73.6036 - val_mean_absolute_error: 6.2878\n"
          ]
        },
        {
          "output_type": "execute_result",
          "data": {
            "text/plain": [
              "<keras.callbacks.History at 0x7f6741f67a10>"
            ]
          },
          "metadata": {},
          "execution_count": 8
        }
      ]
    },
    {
      "cell_type": "code",
      "metadata": {
        "colab": {
          "base_uri": "https://localhost:8080/"
        },
        "id": "ajf4IDuOGVqE",
        "outputId": "c3a0e442-d46c-4b2f-cbfc-de999d2fca73"
      },
      "source": [
        "from sklearn.metrics import r2_score\n",
        "acc = r2_score(y_test,ml.predict(x_test))\n",
        "acc*100"
      ],
      "execution_count": 10,
      "outputs": [
        {
          "output_type": "execute_result",
          "data": {
            "text/plain": [
              "30.390694652412776"
            ]
          },
          "metadata": {},
          "execution_count": 10
        }
      ]
    },
    {
      "cell_type": "code",
      "metadata": {
        "id": "99ozEBDGGxMa"
      },
      "source": [
        ""
      ],
      "execution_count": null,
      "outputs": []
    }
  ]
}