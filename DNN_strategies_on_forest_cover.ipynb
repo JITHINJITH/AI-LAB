{
  "nbformat": 4,
  "nbformat_minor": 0,
  "metadata": {
    "colab": {
      "name": "DNN strategies on forest cover.ipynb",
      "provenance": [],
      "collapsed_sections": [],
      "authorship_tag": "ABX9TyMC6j6sy3j9RJGeiqEHx813",
      "include_colab_link": true
    },
    "kernelspec": {
      "name": "python3",
      "display_name": "Python 3"
    },
    "language_info": {
      "name": "python"
    }
  },
  "cells": [
    {
      "cell_type": "markdown",
      "metadata": {
        "id": "view-in-github",
        "colab_type": "text"
      },
      "source": [
        "<a href=\"https://colab.research.google.com/github/JITHINJITH/AI-LAB/blob/master/DNN_strategies_on_forest_cover.ipynb\" target=\"_parent\"><img src=\"https://colab.research.google.com/assets/colab-badge.svg\" alt=\"Open In Colab\"/></a>"
      ]
    },
    {
      "cell_type": "code",
      "metadata": {
        "colab": {
          "base_uri": "https://localhost:8080/"
        },
        "id": "zP_XL70D5SKc",
        "outputId": "127ffb99-144e-4d40-82c7-14caa03d8ad6"
      },
      "source": [
        "import numpy as np\n",
        "import pandas as pd\n",
        "from sklearn.datasets import fetch_covtype\n",
        "X,y = fetch_covtype(return_X_y=True)"
      ],
      "execution_count": 1,
      "outputs": [
        {
          "output_type": "stream",
          "name": "stderr",
          "text": [
            "Downloading https://ndownloader.figshare.com/files/5976039\n"
          ]
        }
      ]
    },
    {
      "cell_type": "code",
      "metadata": {
        "id": "aV9aGnif5VgD"
      },
      "source": [
        "from sklearn.model_selection import train_test_split\n",
        "X_train,X_test,y_train,y_test=train_test_split(X,y,test_size=0.2,random_state=42)"
      ],
      "execution_count": 3,
      "outputs": []
    },
    {
      "cell_type": "code",
      "metadata": {
        "id": "scTR2s9L57jd"
      },
      "source": [
        "from tensorflow import keras"
      ],
      "execution_count": 4,
      "outputs": []
    },
    {
      "cell_type": "code",
      "metadata": {
        "colab": {
          "base_uri": "https://localhost:8080/"
        },
        "id": "wzCUqtbx5rG5",
        "outputId": "e138f408-7375-442b-c501-300cef7cff52"
      },
      "source": [
        "model_DNN =keras.models.Sequential()\n",
        "model_DNN.add(keras.layers.Dense(units=12, activation= 'relu',input_shape=X_train.shape[1:]))\n",
        "model_DNN.add(keras.layers.BatchNormalization())\n",
        "model_DNN.add(keras.layers.Dense(units=10, activation='relu' ))\n",
        "model_DNN.add(keras.layers.Dropout(rate=0.1))\n",
        "model_DNN.summary()\n"
      ],
      "execution_count": 9,
      "outputs": [
        {
          "output_type": "stream",
          "name": "stdout",
          "text": [
            "Model: \"sequential_4\"\n",
            "_________________________________________________________________\n",
            "Layer (type)                 Output Shape              Param #   \n",
            "=================================================================\n",
            "dense_8 (Dense)              (None, 12)                660       \n",
            "_________________________________________________________________\n",
            "batch_normalization_1 (Batch (None, 12)                48        \n",
            "_________________________________________________________________\n",
            "dense_9 (Dense)              (None, 10)                130       \n",
            "_________________________________________________________________\n",
            "dropout_3 (Dropout)          (None, 10)                0         \n",
            "=================================================================\n",
            "Total params: 838\n",
            "Trainable params: 814\n",
            "Non-trainable params: 24\n",
            "_________________________________________________________________\n"
          ]
        }
      ]
    },
    {
      "cell_type": "code",
      "metadata": {
        "colab": {
          "base_uri": "https://localhost:8080/"
        },
        "id": "aMmtShjI54hT",
        "outputId": "43eed68d-bf2a-4d8e-cc31-69a510b18efe"
      },
      "source": [
        "model_DNN.compile(loss='sparse_categorical_crossentropy',optimizer='adam',metrics=['accuracy'])\n",
        "es = keras.callbacks.EarlyStopping(monitor='loss',patience=10,restore_best_weights=True)\n",
        "cp = keras.callbacks.ModelCheckpoint(monitor='val_loss',filepath='/contents/mydnn.h5')\n",
        "model_DNN.fit(x =X_train,y=y_train,validation_split=0.1,epochs=2,batch_size=16,callbacks=[es,cp])"
      ],
      "execution_count": 13,
      "outputs": [
        {
          "output_type": "stream",
          "name": "stdout",
          "text": [
            "Epoch 1/2\n",
            "26146/26146 [==============================] - 47s 2ms/step - loss: 2.4642 - accuracy: 0.0508 - val_loss: 2.3026 - val_accuracy: 0.0000e+00\n",
            "Epoch 2/2\n",
            "26146/26146 [==============================] - 51s 2ms/step - loss: 2.3019 - accuracy: 2.3905e-05 - val_loss: 2.3026 - val_accuracy: 0.0000e+00\n"
          ]
        },
        {
          "output_type": "execute_result",
          "data": {
            "text/plain": [
              "<keras.callbacks.History at 0x7fb4836663d0>"
            ]
          },
          "metadata": {},
          "execution_count": 13
        }
      ]
    },
    {
      "cell_type": "code",
      "metadata": {
        "colab": {
          "base_uri": "https://localhost:8080/"
        },
        "id": "J9SIDKXJ6gJT",
        "outputId": "df47fe4a-3f1f-481f-c406-9d3992bffcba"
      },
      "source": [
        "loss,acc = model_DNN.evaluate(X_test,y_test)"
      ],
      "execution_count": 14,
      "outputs": [
        {
          "output_type": "stream",
          "name": "stdout",
          "text": [
            "3632/3632 [==============================] - 4s 1ms/step - loss: 2.3026 - accuracy: 0.0000e+00\n"
          ]
        }
      ]
    },
    {
      "cell_type": "code",
      "metadata": {
        "id": "MpE8GGla77Nu"
      },
      "source": [
        ""
      ],
      "execution_count": null,
      "outputs": []
    }
  ]
}