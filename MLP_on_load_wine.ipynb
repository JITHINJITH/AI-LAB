{
  "nbformat": 4,
  "nbformat_minor": 0,
  "metadata": {
    "colab": {
      "name": "MLP on load wine.ipynb",
      "provenance": [],
      "collapsed_sections": [],
      "authorship_tag": "ABX9TyOkJr7X1ATOxQUih2DsjA3W",
      "include_colab_link": true
    },
    "kernelspec": {
      "name": "python3",
      "display_name": "Python 3"
    },
    "language_info": {
      "name": "python"
    }
  },
  "cells": [
    {
      "cell_type": "markdown",
      "metadata": {
        "id": "view-in-github",
        "colab_type": "text"
      },
      "source": [
        "<a href=\"https://colab.research.google.com/github/JITHINJITH/AI-LAB/blob/master/MLP_on_load_wine.ipynb\" target=\"_parent\"><img src=\"https://colab.research.google.com/assets/colab-badge.svg\" alt=\"Open In Colab\"/></a>"
      ]
    },
    {
      "cell_type": "code",
      "metadata": {
        "id": "lOwXrqK1IiGa"
      },
      "source": [
        "from sklearn.datasets import load_wine\n",
        "wine = load_wine()\n",
        "x = wine.data\n",
        "y= wine.target\n"
      ],
      "execution_count": 1,
      "outputs": []
    },
    {
      "cell_type": "code",
      "metadata": {
        "id": "fTyxaHdGIt6y"
      },
      "source": [
        "from sklearn.model_selection import train_test_split\n",
        "x_train,x_test,y_train,y_test = train_test_split(x,y,test_size=0.2,random_state=42)"
      ],
      "execution_count": 2,
      "outputs": []
    },
    {
      "cell_type": "code",
      "metadata": {
        "colab": {
          "base_uri": "https://localhost:8080/"
        },
        "id": "maNNZLMcJQCt",
        "outputId": "86279a9f-d92b-4933-f7f3-c1d604292451"
      },
      "source": [
        "from tensorflow import keras\n",
        "ml = keras.models.Sequential()\n",
        "ml.add(keras.layers.Dense(units=10,activation='relu',input_shape =x.shape[1:]))\n",
        "ml.add(keras.layers.Dense(units=7,activation='relu'))\n",
        "ml.add(keras.layers.Dense(units=3,activation='softmax'))\n",
        "ml.summary()\n"
      ],
      "execution_count": 3,
      "outputs": [
        {
          "output_type": "stream",
          "name": "stdout",
          "text": [
            "Model: \"sequential\"\n",
            "_________________________________________________________________\n",
            "Layer (type)                 Output Shape              Param #   \n",
            "=================================================================\n",
            "dense (Dense)                (None, 10)                140       \n",
            "_________________________________________________________________\n",
            "dense_1 (Dense)              (None, 7)                 77        \n",
            "_________________________________________________________________\n",
            "dense_2 (Dense)              (None, 3)                 24        \n",
            "=================================================================\n",
            "Total params: 241\n",
            "Trainable params: 241\n",
            "Non-trainable params: 0\n",
            "_________________________________________________________________\n"
          ]
        }
      ]
    },
    {
      "cell_type": "code",
      "metadata": {
        "colab": {
          "base_uri": "https://localhost:8080/"
        },
        "id": "dxi3m3DHJWH2",
        "outputId": "f81b899b-4c93-44b2-d3ed-9c13413075e9"
      },
      "source": [
        "ml.compile(optimizer='adam',loss='sparse_categorical_crossentropy',metrics=['accuracy'])\n",
        "ml.fit(x_train,y_train,validation_split=0.1,epochs=20,batch_size=16)"
      ],
      "execution_count": 4,
      "outputs": [
        {
          "output_type": "stream",
          "name": "stdout",
          "text": [
            "Epoch 1/20\n",
            "8/8 [==============================] - 1s 25ms/step - loss: 73.1782 - accuracy: 0.3386 - val_loss: 51.0472 - val_accuracy: 0.1333\n",
            "Epoch 2/20\n",
            "8/8 [==============================] - 0s 4ms/step - loss: 60.8027 - accuracy: 0.3386 - val_loss: 39.2222 - val_accuracy: 0.1333\n",
            "Epoch 3/20\n",
            "8/8 [==============================] - 0s 4ms/step - loss: 50.8957 - accuracy: 0.3386 - val_loss: 28.6719 - val_accuracy: 0.1333\n",
            "Epoch 4/20\n",
            "8/8 [==============================] - 0s 4ms/step - loss: 42.2930 - accuracy: 0.5197 - val_loss: 23.6928 - val_accuracy: 0.7333\n",
            "Epoch 5/20\n",
            "8/8 [==============================] - 0s 3ms/step - loss: 37.2688 - accuracy: 0.5118 - val_loss: 21.0991 - val_accuracy: 0.6667\n",
            "Epoch 6/20\n",
            "8/8 [==============================] - 0s 4ms/step - loss: 33.0120 - accuracy: 0.5906 - val_loss: 19.4199 - val_accuracy: 0.3333\n",
            "Epoch 7/20\n",
            "8/8 [==============================] - 0s 4ms/step - loss: 29.3948 - accuracy: 0.5039 - val_loss: 17.5977 - val_accuracy: 0.2667\n",
            "Epoch 8/20\n",
            "8/8 [==============================] - 0s 4ms/step - loss: 26.1203 - accuracy: 0.5118 - val_loss: 15.6299 - val_accuracy: 0.3333\n",
            "Epoch 9/20\n",
            "8/8 [==============================] - 0s 4ms/step - loss: 23.3236 - accuracy: 0.5276 - val_loss: 13.8762 - val_accuracy: 0.3333\n",
            "Epoch 10/20\n",
            "8/8 [==============================] - 0s 4ms/step - loss: 20.4296 - accuracy: 0.5354 - val_loss: 12.2850 - val_accuracy: 0.3333\n",
            "Epoch 11/20\n",
            "8/8 [==============================] - 0s 4ms/step - loss: 17.7109 - accuracy: 0.5276 - val_loss: 10.8782 - val_accuracy: 0.3333\n",
            "Epoch 12/20\n",
            "8/8 [==============================] - 0s 4ms/step - loss: 15.6585 - accuracy: 0.4961 - val_loss: 9.6397 - val_accuracy: 0.2667\n",
            "Epoch 13/20\n",
            "8/8 [==============================] - 0s 5ms/step - loss: 13.5847 - accuracy: 0.4567 - val_loss: 8.5820 - val_accuracy: 0.2000\n",
            "Epoch 14/20\n",
            "8/8 [==============================] - 0s 5ms/step - loss: 11.6747 - accuracy: 0.4252 - val_loss: 7.6380 - val_accuracy: 0.1333\n",
            "Epoch 15/20\n",
            "8/8 [==============================] - 0s 4ms/step - loss: 9.9826 - accuracy: 0.4094 - val_loss: 6.6770 - val_accuracy: 0.1333\n",
            "Epoch 16/20\n",
            "8/8 [==============================] - 0s 4ms/step - loss: 8.4119 - accuracy: 0.4094 - val_loss: 5.6761 - val_accuracy: 0.1333\n",
            "Epoch 17/20\n",
            "8/8 [==============================] - 0s 4ms/step - loss: 6.9314 - accuracy: 0.3780 - val_loss: 4.8586 - val_accuracy: 0.1333\n",
            "Epoch 18/20\n",
            "8/8 [==============================] - 0s 4ms/step - loss: 5.3615 - accuracy: 0.3543 - val_loss: 3.9397 - val_accuracy: 0.1333\n",
            "Epoch 19/20\n",
            "8/8 [==============================] - 0s 4ms/step - loss: 4.1325 - accuracy: 0.3386 - val_loss: 3.0411 - val_accuracy: 0.1333\n",
            "Epoch 20/20\n",
            "8/8 [==============================] - 0s 4ms/step - loss: 3.1936 - accuracy: 0.3386 - val_loss: 2.2930 - val_accuracy: 0.1333\n"
          ]
        },
        {
          "output_type": "execute_result",
          "data": {
            "text/plain": [
              "<keras.callbacks.History at 0x7fe733c94990>"
            ]
          },
          "metadata": {},
          "execution_count": 4
        }
      ]
    },
    {
      "cell_type": "code",
      "metadata": {
        "colab": {
          "base_uri": "https://localhost:8080/"
        },
        "id": "Q0bU7xXJKZMr",
        "outputId": "5a4a53a0-de37-4af2-f244-e4c4e1f84561"
      },
      "source": [
        "loss,accuracy = ml.evaluate(x_test,y_test)"
      ],
      "execution_count": 5,
      "outputs": [
        {
          "output_type": "stream",
          "name": "stdout",
          "text": [
            "2/2 [==============================] - 0s 4ms/step - loss: 2.3102 - accuracy: 0.3889\n"
          ]
        }
      ]
    },
    {
      "cell_type": "code",
      "metadata": {
        "id": "sXc5JbcKLAlu"
      },
      "source": [
        ""
      ],
      "execution_count": 5,
      "outputs": []
    }
  ]
}