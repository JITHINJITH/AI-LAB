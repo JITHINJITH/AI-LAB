{
  "nbformat": 4,
  "nbformat_minor": 0,
  "metadata": {
    "colab": {
      "name": "kmeans on iris dataset.ipynb",
      "provenance": [],
      "collapsed_sections": [],
      "authorship_tag": "ABX9TyPur0lJZ7CACRvFfsps1TJg",
      "include_colab_link": true
    },
    "kernelspec": {
      "name": "python3",
      "display_name": "Python 3"
    },
    "language_info": {
      "name": "python"
    }
  },
  "cells": [
    {
      "cell_type": "markdown",
      "metadata": {
        "id": "view-in-github",
        "colab_type": "text"
      },
      "source": [
        "<a href=\"https://colab.research.google.com/github/JITHINJITH/AI-LAB/blob/master/kmeans_on_iris_dataset.ipynb\" target=\"_parent\"><img src=\"https://colab.research.google.com/assets/colab-badge.svg\" alt=\"Open In Colab\"/></a>"
      ]
    },
    {
      "cell_type": "code",
      "metadata": {
        "id": "Uz4AmxurW1YZ"
      },
      "source": [
        "import numpy as np\n",
        "import pandas as pd\n",
        "import matplotlib.pyplot as plt"
      ],
      "execution_count": 1,
      "outputs": []
    },
    {
      "cell_type": "code",
      "metadata": {
        "id": "k4JEOYBoW-K1"
      },
      "source": [
        "from sklearn.datasets import load_iris\n",
        "iris = load_iris()\n",
        "x = iris.data\n",
        "x = iris.data[:,[0,1]]"
      ],
      "execution_count": 12,
      "outputs": []
    },
    {
      "cell_type": "code",
      "metadata": {
        "colab": {
          "base_uri": "https://localhost:8080/"
        },
        "id": "PvSsM_YsXVPD",
        "outputId": "58d89ba0-c6a6-4e8a-948f-b477d74ba93e"
      },
      "source": [
        "from sklearn.cluster import KMeans\n",
        "kmeans = KMeans(n_clusters=4, random_state=42,init='k-means++')\n",
        "kmeans.fit(x)\n",
        "y_kmeans = kmeans.predict(x)\n",
        "y_kmeans"
      ],
      "execution_count": 17,
      "outputs": [
        {
          "output_type": "execute_result",
          "data": {
            "text/plain": [
              "array([2, 0, 0, 0, 2, 2, 0, 2, 0, 0, 2, 2, 0, 0, 2, 2, 2, 2, 2, 2, 2, 2,\n",
              "       2, 2, 2, 0, 2, 2, 2, 0, 0, 2, 2, 2, 0, 0, 2, 2, 0, 2, 2, 0, 0, 2,\n",
              "       2, 0, 2, 0, 2, 2, 1, 1, 1, 3, 1, 3, 1, 0, 1, 0, 0, 3, 3, 3, 3, 1,\n",
              "       3, 3, 3, 3, 3, 3, 3, 3, 1, 1, 1, 1, 3, 3, 3, 3, 3, 3, 3, 3, 1, 3,\n",
              "       3, 3, 3, 3, 3, 0, 3, 3, 3, 3, 0, 3, 1, 3, 1, 3, 1, 1, 0, 1, 1, 1,\n",
              "       1, 3, 1, 3, 3, 1, 1, 1, 1, 3, 1, 3, 1, 3, 1, 1, 3, 3, 3, 1, 1, 1,\n",
              "       3, 3, 3, 1, 1, 1, 3, 1, 1, 1, 3, 1, 1, 1, 3, 1, 1, 3], dtype=int32)"
            ]
          },
          "metadata": {},
          "execution_count": 17
        }
      ]
    },
    {
      "cell_type": "code",
      "metadata": {
        "colab": {
          "base_uri": "https://localhost:8080/",
          "height": 295
        },
        "id": "A3H6VPj8Yanv",
        "outputId": "b0d0a2d1-3bb3-48c3-9cdd-5129fabfbc64"
      },
      "source": [
        "plt.scatter(x[y_kmeans ==0,0],x[y_kmeans ==0,1],s=100,c = 'red',label = 'cluster1')\n",
        "plt.scatter(x[y_kmeans ==1,0],x[y_kmeans ==1,1],s=100,c = 'blue',label = 'cluster2')\n",
        "plt.scatter(x[y_kmeans ==2,0],x[y_kmeans ==2,1],s=100,c = 'green',label = 'cluster3')\n",
        "plt.scatter(x[y_kmeans ==3,0],x[y_kmeans ==3,1],s=100,c = 'orange',label = 'cluster4')\n",
        "plt.scatter(kmeans.cluster_centers_[:,0],kmeans.cluster_centers_[:,1],s=100,c = 'black')\n",
        "plt.legend()\n",
        "plt.xlabel('Sepal length')\n",
        "plt.ylabel('sepal width')\n",
        "plt.title('clustering of iris')\n",
        "plt.show()"
      ],
      "execution_count": 20,
      "outputs": [
        {
          "output_type": "display_data",
          "data": {
            "image/png": "[encoded data removed]",
            "text/plain": [
              "<Figure size 432x288 with 1 Axes>"
            ]
          },
          "metadata": {
            "needs_background": "light"
          }
        }
      ]
    },
    {
      "cell_type": "code",
      "metadata": {
        "id": "ea4RerXRZm_0"
      },
      "source": [
        ""
      ],
      "execution_count": null,
      "outputs": []
    }
  ]
}